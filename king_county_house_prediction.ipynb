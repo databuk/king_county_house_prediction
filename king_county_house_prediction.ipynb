{
 "cells": [
  {
   "cell_type": "markdown",
   "id": "435448d9",
   "metadata": {},
   "source": [
    "# House prediction in King County, Washington\n",
    "\n",
    "In this project, I will explore the records of houses located in King County, Washington. I will build a machine learning model that predicts the price of houses in the county.\n"
   ]
  },
  {
   "cell_type": "markdown",
   "id": "0fd9369e",
   "metadata": {},
   "source": [
    "# Data Wrangling "
   ]
  },
  {
   "cell_type": "code",
   "execution_count": 1,
   "id": "058f2bcb",
   "metadata": {},
   "outputs": [],
   "source": [
    "# Import all neccesary libraries.\n",
    "\n",
    "import pandas as pd\n",
    "import numpy as np\n",
    "import seaborn as sns\n",
    "import pickle\n",
    "import matplotlib.pyplot as plt\n",
    "import plotly.express as px\n",
    "\n",
    "from sklearn.model_selection import GridSearchCV\n",
    "from sklearn.linear_model import LinearRegression, Ridge\n",
    "from sklearn.metrics import mean_absolute_error\n",
    "from sklearn.model_selection import train_test_split\n",
    "from sklearn.pipeline import make_pipeline\n"
   ]
  },
  {
   "cell_type": "code",
   "execution_count": null,
   "id": "2afdf04d",
   "metadata": {},
   "outputs": [],
   "source": []
  },
  {
   "cell_type": "markdown",
   "id": "f1e4d5e7",
   "metadata": {},
   "source": [
    "## Gathering Data"
   ]
  },
  {
   "cell_type": "code",
   "execution_count": 2,
   "id": "db9f9e50",
   "metadata": {},
   "outputs": [
    {
     "data": {
      "text/html": [
       "<div>\n",
       "<style scoped>\n",
       "    .dataframe tbody tr th:only-of-type {\n",
       "        vertical-align: middle;\n",
       "    }\n",
       "\n",
       "    .dataframe tbody tr th {\n",
       "        vertical-align: top;\n",
       "    }\n",
       "\n",
       "    .dataframe thead th {\n",
       "        text-align: right;\n",
       "    }\n",
       "</style>\n",
       "<table border=\"1\" class=\"dataframe\">\n",
       "  <thead>\n",
       "    <tr style=\"text-align: right;\">\n",
       "      <th></th>\n",
       "      <th>id</th>\n",
       "      <th>date</th>\n",
       "      <th>price</th>\n",
       "      <th>bedrooms</th>\n",
       "      <th>bathrooms</th>\n",
       "      <th>sqft_living</th>\n",
       "      <th>sqft_lot</th>\n",
       "      <th>floors</th>\n",
       "      <th>waterfront</th>\n",
       "      <th>view</th>\n",
       "      <th>...</th>\n",
       "      <th>grade</th>\n",
       "      <th>sqft_above</th>\n",
       "      <th>sqft_basement</th>\n",
       "      <th>yr_built</th>\n",
       "      <th>yr_renovated</th>\n",
       "      <th>zipcode</th>\n",
       "      <th>lat</th>\n",
       "      <th>long</th>\n",
       "      <th>sqft_living15</th>\n",
       "      <th>sqft_lot15</th>\n",
       "    </tr>\n",
       "  </thead>\n",
       "  <tbody>\n",
       "    <tr>\n",
       "      <th>0</th>\n",
       "      <td>7129300520</td>\n",
       "      <td>20141013T000000</td>\n",
       "      <td>221900.0</td>\n",
       "      <td>3</td>\n",
       "      <td>1.00</td>\n",
       "      <td>1180</td>\n",
       "      <td>5650</td>\n",
       "      <td>1.0</td>\n",
       "      <td>0</td>\n",
       "      <td>0</td>\n",
       "      <td>...</td>\n",
       "      <td>7</td>\n",
       "      <td>1180</td>\n",
       "      <td>0</td>\n",
       "      <td>1955</td>\n",
       "      <td>0</td>\n",
       "      <td>98178</td>\n",
       "      <td>47.5112</td>\n",
       "      <td>-122.257</td>\n",
       "      <td>1340</td>\n",
       "      <td>5650</td>\n",
       "    </tr>\n",
       "    <tr>\n",
       "      <th>1</th>\n",
       "      <td>6414100192</td>\n",
       "      <td>20141209T000000</td>\n",
       "      <td>538000.0</td>\n",
       "      <td>3</td>\n",
       "      <td>2.25</td>\n",
       "      <td>2570</td>\n",
       "      <td>7242</td>\n",
       "      <td>2.0</td>\n",
       "      <td>0</td>\n",
       "      <td>0</td>\n",
       "      <td>...</td>\n",
       "      <td>7</td>\n",
       "      <td>2170</td>\n",
       "      <td>400</td>\n",
       "      <td>1951</td>\n",
       "      <td>1991</td>\n",
       "      <td>98125</td>\n",
       "      <td>47.7210</td>\n",
       "      <td>-122.319</td>\n",
       "      <td>1690</td>\n",
       "      <td>7639</td>\n",
       "    </tr>\n",
       "    <tr>\n",
       "      <th>2</th>\n",
       "      <td>5631500400</td>\n",
       "      <td>20150225T000000</td>\n",
       "      <td>180000.0</td>\n",
       "      <td>2</td>\n",
       "      <td>1.00</td>\n",
       "      <td>770</td>\n",
       "      <td>10000</td>\n",
       "      <td>1.0</td>\n",
       "      <td>0</td>\n",
       "      <td>0</td>\n",
       "      <td>...</td>\n",
       "      <td>6</td>\n",
       "      <td>770</td>\n",
       "      <td>0</td>\n",
       "      <td>1933</td>\n",
       "      <td>0</td>\n",
       "      <td>98028</td>\n",
       "      <td>47.7379</td>\n",
       "      <td>-122.233</td>\n",
       "      <td>2720</td>\n",
       "      <td>8062</td>\n",
       "    </tr>\n",
       "    <tr>\n",
       "      <th>3</th>\n",
       "      <td>2487200875</td>\n",
       "      <td>20141209T000000</td>\n",
       "      <td>604000.0</td>\n",
       "      <td>4</td>\n",
       "      <td>3.00</td>\n",
       "      <td>1960</td>\n",
       "      <td>5000</td>\n",
       "      <td>1.0</td>\n",
       "      <td>0</td>\n",
       "      <td>0</td>\n",
       "      <td>...</td>\n",
       "      <td>7</td>\n",
       "      <td>1050</td>\n",
       "      <td>910</td>\n",
       "      <td>1965</td>\n",
       "      <td>0</td>\n",
       "      <td>98136</td>\n",
       "      <td>47.5208</td>\n",
       "      <td>-122.393</td>\n",
       "      <td>1360</td>\n",
       "      <td>5000</td>\n",
       "    </tr>\n",
       "    <tr>\n",
       "      <th>4</th>\n",
       "      <td>1954400510</td>\n",
       "      <td>20150218T000000</td>\n",
       "      <td>510000.0</td>\n",
       "      <td>3</td>\n",
       "      <td>2.00</td>\n",
       "      <td>1680</td>\n",
       "      <td>8080</td>\n",
       "      <td>1.0</td>\n",
       "      <td>0</td>\n",
       "      <td>0</td>\n",
       "      <td>...</td>\n",
       "      <td>8</td>\n",
       "      <td>1680</td>\n",
       "      <td>0</td>\n",
       "      <td>1987</td>\n",
       "      <td>0</td>\n",
       "      <td>98074</td>\n",
       "      <td>47.6168</td>\n",
       "      <td>-122.045</td>\n",
       "      <td>1800</td>\n",
       "      <td>7503</td>\n",
       "    </tr>\n",
       "  </tbody>\n",
       "</table>\n",
       "<p>5 rows × 21 columns</p>\n",
       "</div>"
      ],
      "text/plain": [
       "           id             date     price  bedrooms  bathrooms  sqft_living  \\\n",
       "0  7129300520  20141013T000000  221900.0         3       1.00         1180   \n",
       "1  6414100192  20141209T000000  538000.0         3       2.25         2570   \n",
       "2  5631500400  20150225T000000  180000.0         2       1.00          770   \n",
       "3  2487200875  20141209T000000  604000.0         4       3.00         1960   \n",
       "4  1954400510  20150218T000000  510000.0         3       2.00         1680   \n",
       "\n",
       "   sqft_lot  floors  waterfront  view  ...  grade  sqft_above  sqft_basement  \\\n",
       "0      5650     1.0           0     0  ...      7        1180              0   \n",
       "1      7242     2.0           0     0  ...      7        2170            400   \n",
       "2     10000     1.0           0     0  ...      6         770              0   \n",
       "3      5000     1.0           0     0  ...      7        1050            910   \n",
       "4      8080     1.0           0     0  ...      8        1680              0   \n",
       "\n",
       "   yr_built  yr_renovated  zipcode      lat     long  sqft_living15  \\\n",
       "0      1955             0    98178  47.5112 -122.257           1340   \n",
       "1      1951          1991    98125  47.7210 -122.319           1690   \n",
       "2      1933             0    98028  47.7379 -122.233           2720   \n",
       "3      1965             0    98136  47.5208 -122.393           1360   \n",
       "4      1987             0    98074  47.6168 -122.045           1800   \n",
       "\n",
       "   sqft_lot15  \n",
       "0        5650  \n",
       "1        7639  \n",
       "2        8062  \n",
       "3        5000  \n",
       "4        7503  \n",
       "\n",
       "[5 rows x 21 columns]"
      ]
     },
     "execution_count": 2,
     "metadata": {},
     "output_type": "execute_result"
    }
   ],
   "source": [
    "# Read dataset to dataframe.\n",
    "\n",
    "df = pd.read_csv(\"house_sales.zip\")\n",
    "df.head()"
   ]
  },
  {
   "cell_type": "markdown",
   "id": "131ce48a",
   "metadata": {},
   "source": [
    "### Feature Definition\n",
    "- id - Unique ID for each home sold\n",
    "- date - Date of the home sale\n",
    "- price - Price of each home sold\n",
    "- bedrooms - Number of bedrooms\n",
    "- bathrooms - Number of bathrooms, where .5 accounts for a room with a toilet but no shower\n",
    "- sqft_living - Square footage of the apartments interior living space\n",
    "- sqft_lot - Square footage of the land space\n",
    "- floors - Number of floors\n",
    "- waterfront - A dummy variable for whether the apartment was overlooking the waterfront or not\n",
    "- view - An index from 0 to 4 of how good the view of the property was\n",
    "- condition - An index from 1 to 5 on the condition of the apartment,\n",
    "- grade - An index from 1 to 13, where 1-3 falls short of building construction and design, 7 has an average level of  construction and design, and 11-13 have a high quality level of construction and design.\n",
    "- sqft_above - The square footage of the interior housing space that is above ground level\n",
    "- sqft_basement - The square footage of the interior housing space that is below ground level\n",
    "- yr_built - The year the house was initially built\n",
    "- yr_renovated - The year of the house’s last renovation\n",
    "- zipcode - What zipcode area the house is in\n",
    "- lat - Lattitude\n",
    "- long - Longitude\n",
    "- sqft_living15 - The square footage of interior housing living space for the nearest 15 neighbors\n",
    "- sqft_lot15 - The square footage of the land lots of the nearest 15 neighbors"
   ]
  },
  {
   "cell_type": "markdown",
   "id": "0af4bb3f",
   "metadata": {},
   "source": [
    "## Accessing Data\n",
    "In this section, I will access data for quality and tidyness issue.\n",
    "Identified issues will then be cleaned in the next section."
   ]
  },
  {
   "cell_type": "code",
   "execution_count": 3,
   "id": "df192be0",
   "metadata": {
    "scrolled": true
   },
   "outputs": [
    {
     "data": {
      "text/html": [
       "<div>\n",
       "<style scoped>\n",
       "    .dataframe tbody tr th:only-of-type {\n",
       "        vertical-align: middle;\n",
       "    }\n",
       "\n",
       "    .dataframe tbody tr th {\n",
       "        vertical-align: top;\n",
       "    }\n",
       "\n",
       "    .dataframe thead th {\n",
       "        text-align: right;\n",
       "    }\n",
       "</style>\n",
       "<table border=\"1\" class=\"dataframe\">\n",
       "  <thead>\n",
       "    <tr style=\"text-align: right;\">\n",
       "      <th></th>\n",
       "      <th>id</th>\n",
       "      <th>date</th>\n",
       "      <th>price</th>\n",
       "      <th>bedrooms</th>\n",
       "      <th>bathrooms</th>\n",
       "      <th>sqft_living</th>\n",
       "      <th>sqft_lot</th>\n",
       "      <th>floors</th>\n",
       "      <th>waterfront</th>\n",
       "      <th>view</th>\n",
       "      <th>condition</th>\n",
       "      <th>grade</th>\n",
       "      <th>sqft_above</th>\n",
       "      <th>sqft_basement</th>\n",
       "      <th>yr_built</th>\n",
       "      <th>yr_renovated</th>\n",
       "      <th>zipcode</th>\n",
       "      <th>lat</th>\n",
       "      <th>long</th>\n",
       "      <th>sqft_living15</th>\n",
       "      <th>sqft_lot15</th>\n",
       "    </tr>\n",
       "  </thead>\n",
       "  <tbody>\n",
       "    <tr>\n",
       "      <th>0</th>\n",
       "      <td>7129300520</td>\n",
       "      <td>20141013T000000</td>\n",
       "      <td>221900.0</td>\n",
       "      <td>3</td>\n",
       "      <td>1.00</td>\n",
       "      <td>1180</td>\n",
       "      <td>5650</td>\n",
       "      <td>1.0</td>\n",
       "      <td>0</td>\n",
       "      <td>0</td>\n",
       "      <td>3</td>\n",
       "      <td>7</td>\n",
       "      <td>1180</td>\n",
       "      <td>0</td>\n",
       "      <td>1955</td>\n",
       "      <td>0</td>\n",
       "      <td>98178</td>\n",
       "      <td>47.5112</td>\n",
       "      <td>-122.257</td>\n",
       "      <td>1340</td>\n",
       "      <td>5650</td>\n",
       "    </tr>\n",
       "    <tr>\n",
       "      <th>1</th>\n",
       "      <td>6414100192</td>\n",
       "      <td>20141209T000000</td>\n",
       "      <td>538000.0</td>\n",
       "      <td>3</td>\n",
       "      <td>2.25</td>\n",
       "      <td>2570</td>\n",
       "      <td>7242</td>\n",
       "      <td>2.0</td>\n",
       "      <td>0</td>\n",
       "      <td>0</td>\n",
       "      <td>3</td>\n",
       "      <td>7</td>\n",
       "      <td>2170</td>\n",
       "      <td>400</td>\n",
       "      <td>1951</td>\n",
       "      <td>1991</td>\n",
       "      <td>98125</td>\n",
       "      <td>47.7210</td>\n",
       "      <td>-122.319</td>\n",
       "      <td>1690</td>\n",
       "      <td>7639</td>\n",
       "    </tr>\n",
       "    <tr>\n",
       "      <th>2</th>\n",
       "      <td>5631500400</td>\n",
       "      <td>20150225T000000</td>\n",
       "      <td>180000.0</td>\n",
       "      <td>2</td>\n",
       "      <td>1.00</td>\n",
       "      <td>770</td>\n",
       "      <td>10000</td>\n",
       "      <td>1.0</td>\n",
       "      <td>0</td>\n",
       "      <td>0</td>\n",
       "      <td>3</td>\n",
       "      <td>6</td>\n",
       "      <td>770</td>\n",
       "      <td>0</td>\n",
       "      <td>1933</td>\n",
       "      <td>0</td>\n",
       "      <td>98028</td>\n",
       "      <td>47.7379</td>\n",
       "      <td>-122.233</td>\n",
       "      <td>2720</td>\n",
       "      <td>8062</td>\n",
       "    </tr>\n",
       "    <tr>\n",
       "      <th>3</th>\n",
       "      <td>2487200875</td>\n",
       "      <td>20141209T000000</td>\n",
       "      <td>604000.0</td>\n",
       "      <td>4</td>\n",
       "      <td>3.00</td>\n",
       "      <td>1960</td>\n",
       "      <td>5000</td>\n",
       "      <td>1.0</td>\n",
       "      <td>0</td>\n",
       "      <td>0</td>\n",
       "      <td>5</td>\n",
       "      <td>7</td>\n",
       "      <td>1050</td>\n",
       "      <td>910</td>\n",
       "      <td>1965</td>\n",
       "      <td>0</td>\n",
       "      <td>98136</td>\n",
       "      <td>47.5208</td>\n",
       "      <td>-122.393</td>\n",
       "      <td>1360</td>\n",
       "      <td>5000</td>\n",
       "    </tr>\n",
       "    <tr>\n",
       "      <th>4</th>\n",
       "      <td>1954400510</td>\n",
       "      <td>20150218T000000</td>\n",
       "      <td>510000.0</td>\n",
       "      <td>3</td>\n",
       "      <td>2.00</td>\n",
       "      <td>1680</td>\n",
       "      <td>8080</td>\n",
       "      <td>1.0</td>\n",
       "      <td>0</td>\n",
       "      <td>0</td>\n",
       "      <td>3</td>\n",
       "      <td>8</td>\n",
       "      <td>1680</td>\n",
       "      <td>0</td>\n",
       "      <td>1987</td>\n",
       "      <td>0</td>\n",
       "      <td>98074</td>\n",
       "      <td>47.6168</td>\n",
       "      <td>-122.045</td>\n",
       "      <td>1800</td>\n",
       "      <td>7503</td>\n",
       "    </tr>\n",
       "  </tbody>\n",
       "</table>\n",
       "</div>"
      ],
      "text/plain": [
       "           id             date     price  bedrooms  bathrooms  sqft_living  \\\n",
       "0  7129300520  20141013T000000  221900.0         3       1.00         1180   \n",
       "1  6414100192  20141209T000000  538000.0         3       2.25         2570   \n",
       "2  5631500400  20150225T000000  180000.0         2       1.00          770   \n",
       "3  2487200875  20141209T000000  604000.0         4       3.00         1960   \n",
       "4  1954400510  20150218T000000  510000.0         3       2.00         1680   \n",
       "\n",
       "   sqft_lot  floors  waterfront  view  condition  grade  sqft_above  \\\n",
       "0      5650     1.0           0     0          3      7        1180   \n",
       "1      7242     2.0           0     0          3      7        2170   \n",
       "2     10000     1.0           0     0          3      6         770   \n",
       "3      5000     1.0           0     0          5      7        1050   \n",
       "4      8080     1.0           0     0          3      8        1680   \n",
       "\n",
       "   sqft_basement  yr_built  yr_renovated  zipcode      lat     long  \\\n",
       "0              0      1955             0    98178  47.5112 -122.257   \n",
       "1            400      1951          1991    98125  47.7210 -122.319   \n",
       "2              0      1933             0    98028  47.7379 -122.233   \n",
       "3            910      1965             0    98136  47.5208 -122.393   \n",
       "4              0      1987             0    98074  47.6168 -122.045   \n",
       "\n",
       "   sqft_living15  sqft_lot15  \n",
       "0           1340        5650  \n",
       "1           1690        7639  \n",
       "2           2720        8062  \n",
       "3           1360        5000  \n",
       "4           1800        7503  "
      ]
     },
     "execution_count": 3,
     "metadata": {},
     "output_type": "execute_result"
    }
   ],
   "source": [
    "# Increase maximum display to view all columns.\n",
    "\n",
    "pd.set_option(\"display.max_columns\", 30)\n",
    "\n",
    "# Show first five rows.\n",
    "\n",
    "df.head()"
   ]
  },
  {
   "cell_type": "code",
   "execution_count": 4,
   "id": "154780ce",
   "metadata": {},
   "outputs": [
    {
     "data": {
      "text/plain": [
       "(21613, 21)"
      ]
     },
     "execution_count": 4,
     "metadata": {},
     "output_type": "execute_result"
    }
   ],
   "source": [
    "# Take a look at the dimensions of dataset.\n",
    "\n",
    "df.shape"
   ]
  },
  {
   "cell_type": "code",
   "execution_count": 5,
   "id": "53207a76",
   "metadata": {
    "scrolled": false
   },
   "outputs": [
    {
     "name": "stdout",
     "output_type": "stream",
     "text": [
      "<class 'pandas.core.frame.DataFrame'>\n",
      "RangeIndex: 21613 entries, 0 to 21612\n",
      "Data columns (total 21 columns):\n",
      " #   Column         Non-Null Count  Dtype  \n",
      "---  ------         --------------  -----  \n",
      " 0   id             21613 non-null  int64  \n",
      " 1   date           21613 non-null  object \n",
      " 2   price          21613 non-null  float64\n",
      " 3   bedrooms       21613 non-null  int64  \n",
      " 4   bathrooms      21613 non-null  float64\n",
      " 5   sqft_living    21613 non-null  int64  \n",
      " 6   sqft_lot       21613 non-null  int64  \n",
      " 7   floors         21613 non-null  float64\n",
      " 8   waterfront     21613 non-null  int64  \n",
      " 9   view           21613 non-null  int64  \n",
      " 10  condition      21613 non-null  int64  \n",
      " 11  grade          21613 non-null  int64  \n",
      " 12  sqft_above     21613 non-null  int64  \n",
      " 13  sqft_basement  21613 non-null  int64  \n",
      " 14  yr_built       21613 non-null  int64  \n",
      " 15  yr_renovated   21613 non-null  int64  \n",
      " 16  zipcode        21613 non-null  int64  \n",
      " 17  lat            21613 non-null  float64\n",
      " 18  long           21613 non-null  float64\n",
      " 19  sqft_living15  21613 non-null  int64  \n",
      " 20  sqft_lot15     21613 non-null  int64  \n",
      "dtypes: float64(5), int64(15), object(1)\n",
      "memory usage: 3.5+ MB\n"
     ]
    }
   ],
   "source": [
    "# Assess dataset.\n",
    "\n",
    "df.info()"
   ]
  },
  {
   "cell_type": "code",
   "execution_count": 6,
   "id": "25dfd197",
   "metadata": {
    "scrolled": false
   },
   "outputs": [
    {
     "data": {
      "text/html": [
       "<div>\n",
       "<style scoped>\n",
       "    .dataframe tbody tr th:only-of-type {\n",
       "        vertical-align: middle;\n",
       "    }\n",
       "\n",
       "    .dataframe tbody tr th {\n",
       "        vertical-align: top;\n",
       "    }\n",
       "\n",
       "    .dataframe thead th {\n",
       "        text-align: right;\n",
       "    }\n",
       "</style>\n",
       "<table border=\"1\" class=\"dataframe\">\n",
       "  <thead>\n",
       "    <tr style=\"text-align: right;\">\n",
       "      <th></th>\n",
       "      <th>id</th>\n",
       "      <th>price</th>\n",
       "      <th>bedrooms</th>\n",
       "      <th>bathrooms</th>\n",
       "      <th>sqft_living</th>\n",
       "      <th>sqft_lot</th>\n",
       "      <th>floors</th>\n",
       "      <th>waterfront</th>\n",
       "      <th>view</th>\n",
       "      <th>condition</th>\n",
       "      <th>grade</th>\n",
       "      <th>sqft_above</th>\n",
       "      <th>sqft_basement</th>\n",
       "      <th>yr_built</th>\n",
       "      <th>yr_renovated</th>\n",
       "      <th>zipcode</th>\n",
       "      <th>lat</th>\n",
       "      <th>long</th>\n",
       "      <th>sqft_living15</th>\n",
       "      <th>sqft_lot15</th>\n",
       "    </tr>\n",
       "  </thead>\n",
       "  <tbody>\n",
       "    <tr>\n",
       "      <th>count</th>\n",
       "      <td>2.161300e+04</td>\n",
       "      <td>2.161300e+04</td>\n",
       "      <td>21613.000000</td>\n",
       "      <td>21613.000000</td>\n",
       "      <td>21613.000000</td>\n",
       "      <td>2.161300e+04</td>\n",
       "      <td>21613.000000</td>\n",
       "      <td>21613.000000</td>\n",
       "      <td>21613.000000</td>\n",
       "      <td>21613.000000</td>\n",
       "      <td>21613.000000</td>\n",
       "      <td>21613.000000</td>\n",
       "      <td>21613.000000</td>\n",
       "      <td>21613.000000</td>\n",
       "      <td>21613.000000</td>\n",
       "      <td>21613.000000</td>\n",
       "      <td>21613.000000</td>\n",
       "      <td>21613.000000</td>\n",
       "      <td>21613.000000</td>\n",
       "      <td>21613.000000</td>\n",
       "    </tr>\n",
       "    <tr>\n",
       "      <th>mean</th>\n",
       "      <td>4.580302e+09</td>\n",
       "      <td>5.400881e+05</td>\n",
       "      <td>3.370842</td>\n",
       "      <td>2.114757</td>\n",
       "      <td>2079.899736</td>\n",
       "      <td>1.510697e+04</td>\n",
       "      <td>1.494309</td>\n",
       "      <td>0.007542</td>\n",
       "      <td>0.234303</td>\n",
       "      <td>3.409430</td>\n",
       "      <td>7.656873</td>\n",
       "      <td>1788.390691</td>\n",
       "      <td>291.509045</td>\n",
       "      <td>1971.005136</td>\n",
       "      <td>84.402258</td>\n",
       "      <td>98077.939805</td>\n",
       "      <td>47.560053</td>\n",
       "      <td>-122.213896</td>\n",
       "      <td>1986.552492</td>\n",
       "      <td>12768.455652</td>\n",
       "    </tr>\n",
       "    <tr>\n",
       "      <th>std</th>\n",
       "      <td>2.876566e+09</td>\n",
       "      <td>3.671272e+05</td>\n",
       "      <td>0.930062</td>\n",
       "      <td>0.770163</td>\n",
       "      <td>918.440897</td>\n",
       "      <td>4.142051e+04</td>\n",
       "      <td>0.539989</td>\n",
       "      <td>0.086517</td>\n",
       "      <td>0.766318</td>\n",
       "      <td>0.650743</td>\n",
       "      <td>1.175459</td>\n",
       "      <td>828.090978</td>\n",
       "      <td>442.575043</td>\n",
       "      <td>29.373411</td>\n",
       "      <td>401.679240</td>\n",
       "      <td>53.505026</td>\n",
       "      <td>0.138564</td>\n",
       "      <td>0.140828</td>\n",
       "      <td>685.391304</td>\n",
       "      <td>27304.179631</td>\n",
       "    </tr>\n",
       "    <tr>\n",
       "      <th>min</th>\n",
       "      <td>1.000102e+06</td>\n",
       "      <td>7.500000e+04</td>\n",
       "      <td>0.000000</td>\n",
       "      <td>0.000000</td>\n",
       "      <td>290.000000</td>\n",
       "      <td>5.200000e+02</td>\n",
       "      <td>1.000000</td>\n",
       "      <td>0.000000</td>\n",
       "      <td>0.000000</td>\n",
       "      <td>1.000000</td>\n",
       "      <td>1.000000</td>\n",
       "      <td>290.000000</td>\n",
       "      <td>0.000000</td>\n",
       "      <td>1900.000000</td>\n",
       "      <td>0.000000</td>\n",
       "      <td>98001.000000</td>\n",
       "      <td>47.155900</td>\n",
       "      <td>-122.519000</td>\n",
       "      <td>399.000000</td>\n",
       "      <td>651.000000</td>\n",
       "    </tr>\n",
       "    <tr>\n",
       "      <th>25%</th>\n",
       "      <td>2.123049e+09</td>\n",
       "      <td>3.219500e+05</td>\n",
       "      <td>3.000000</td>\n",
       "      <td>1.750000</td>\n",
       "      <td>1427.000000</td>\n",
       "      <td>5.040000e+03</td>\n",
       "      <td>1.000000</td>\n",
       "      <td>0.000000</td>\n",
       "      <td>0.000000</td>\n",
       "      <td>3.000000</td>\n",
       "      <td>7.000000</td>\n",
       "      <td>1190.000000</td>\n",
       "      <td>0.000000</td>\n",
       "      <td>1951.000000</td>\n",
       "      <td>0.000000</td>\n",
       "      <td>98033.000000</td>\n",
       "      <td>47.471000</td>\n",
       "      <td>-122.328000</td>\n",
       "      <td>1490.000000</td>\n",
       "      <td>5100.000000</td>\n",
       "    </tr>\n",
       "    <tr>\n",
       "      <th>50%</th>\n",
       "      <td>3.904930e+09</td>\n",
       "      <td>4.500000e+05</td>\n",
       "      <td>3.000000</td>\n",
       "      <td>2.250000</td>\n",
       "      <td>1910.000000</td>\n",
       "      <td>7.618000e+03</td>\n",
       "      <td>1.500000</td>\n",
       "      <td>0.000000</td>\n",
       "      <td>0.000000</td>\n",
       "      <td>3.000000</td>\n",
       "      <td>7.000000</td>\n",
       "      <td>1560.000000</td>\n",
       "      <td>0.000000</td>\n",
       "      <td>1975.000000</td>\n",
       "      <td>0.000000</td>\n",
       "      <td>98065.000000</td>\n",
       "      <td>47.571800</td>\n",
       "      <td>-122.230000</td>\n",
       "      <td>1840.000000</td>\n",
       "      <td>7620.000000</td>\n",
       "    </tr>\n",
       "    <tr>\n",
       "      <th>75%</th>\n",
       "      <td>7.308900e+09</td>\n",
       "      <td>6.450000e+05</td>\n",
       "      <td>4.000000</td>\n",
       "      <td>2.500000</td>\n",
       "      <td>2550.000000</td>\n",
       "      <td>1.068800e+04</td>\n",
       "      <td>2.000000</td>\n",
       "      <td>0.000000</td>\n",
       "      <td>0.000000</td>\n",
       "      <td>4.000000</td>\n",
       "      <td>8.000000</td>\n",
       "      <td>2210.000000</td>\n",
       "      <td>560.000000</td>\n",
       "      <td>1997.000000</td>\n",
       "      <td>0.000000</td>\n",
       "      <td>98118.000000</td>\n",
       "      <td>47.678000</td>\n",
       "      <td>-122.125000</td>\n",
       "      <td>2360.000000</td>\n",
       "      <td>10083.000000</td>\n",
       "    </tr>\n",
       "    <tr>\n",
       "      <th>max</th>\n",
       "      <td>9.900000e+09</td>\n",
       "      <td>7.700000e+06</td>\n",
       "      <td>33.000000</td>\n",
       "      <td>8.000000</td>\n",
       "      <td>13540.000000</td>\n",
       "      <td>1.651359e+06</td>\n",
       "      <td>3.500000</td>\n",
       "      <td>1.000000</td>\n",
       "      <td>4.000000</td>\n",
       "      <td>5.000000</td>\n",
       "      <td>13.000000</td>\n",
       "      <td>9410.000000</td>\n",
       "      <td>4820.000000</td>\n",
       "      <td>2015.000000</td>\n",
       "      <td>2015.000000</td>\n",
       "      <td>98199.000000</td>\n",
       "      <td>47.777600</td>\n",
       "      <td>-121.315000</td>\n",
       "      <td>6210.000000</td>\n",
       "      <td>871200.000000</td>\n",
       "    </tr>\n",
       "  </tbody>\n",
       "</table>\n",
       "</div>"
      ],
      "text/plain": [
       "                 id         price      bedrooms     bathrooms   sqft_living  \\\n",
       "count  2.161300e+04  2.161300e+04  21613.000000  21613.000000  21613.000000   \n",
       "mean   4.580302e+09  5.400881e+05      3.370842      2.114757   2079.899736   \n",
       "std    2.876566e+09  3.671272e+05      0.930062      0.770163    918.440897   \n",
       "min    1.000102e+06  7.500000e+04      0.000000      0.000000    290.000000   \n",
       "25%    2.123049e+09  3.219500e+05      3.000000      1.750000   1427.000000   \n",
       "50%    3.904930e+09  4.500000e+05      3.000000      2.250000   1910.000000   \n",
       "75%    7.308900e+09  6.450000e+05      4.000000      2.500000   2550.000000   \n",
       "max    9.900000e+09  7.700000e+06     33.000000      8.000000  13540.000000   \n",
       "\n",
       "           sqft_lot        floors    waterfront          view     condition  \\\n",
       "count  2.161300e+04  21613.000000  21613.000000  21613.000000  21613.000000   \n",
       "mean   1.510697e+04      1.494309      0.007542      0.234303      3.409430   \n",
       "std    4.142051e+04      0.539989      0.086517      0.766318      0.650743   \n",
       "min    5.200000e+02      1.000000      0.000000      0.000000      1.000000   \n",
       "25%    5.040000e+03      1.000000      0.000000      0.000000      3.000000   \n",
       "50%    7.618000e+03      1.500000      0.000000      0.000000      3.000000   \n",
       "75%    1.068800e+04      2.000000      0.000000      0.000000      4.000000   \n",
       "max    1.651359e+06      3.500000      1.000000      4.000000      5.000000   \n",
       "\n",
       "              grade    sqft_above  sqft_basement      yr_built  yr_renovated  \\\n",
       "count  21613.000000  21613.000000   21613.000000  21613.000000  21613.000000   \n",
       "mean       7.656873   1788.390691     291.509045   1971.005136     84.402258   \n",
       "std        1.175459    828.090978     442.575043     29.373411    401.679240   \n",
       "min        1.000000    290.000000       0.000000   1900.000000      0.000000   \n",
       "25%        7.000000   1190.000000       0.000000   1951.000000      0.000000   \n",
       "50%        7.000000   1560.000000       0.000000   1975.000000      0.000000   \n",
       "75%        8.000000   2210.000000     560.000000   1997.000000      0.000000   \n",
       "max       13.000000   9410.000000    4820.000000   2015.000000   2015.000000   \n",
       "\n",
       "            zipcode           lat          long  sqft_living15     sqft_lot15  \n",
       "count  21613.000000  21613.000000  21613.000000   21613.000000   21613.000000  \n",
       "mean   98077.939805     47.560053   -122.213896    1986.552492   12768.455652  \n",
       "std       53.505026      0.138564      0.140828     685.391304   27304.179631  \n",
       "min    98001.000000     47.155900   -122.519000     399.000000     651.000000  \n",
       "25%    98033.000000     47.471000   -122.328000    1490.000000    5100.000000  \n",
       "50%    98065.000000     47.571800   -122.230000    1840.000000    7620.000000  \n",
       "75%    98118.000000     47.678000   -122.125000    2360.000000   10083.000000  \n",
       "max    98199.000000     47.777600   -121.315000    6210.000000  871200.000000  "
      ]
     },
     "execution_count": 6,
     "metadata": {},
     "output_type": "execute_result"
    }
   ],
   "source": [
    "# Check the statistical summary of numerical data.\n",
    "\n",
    "df.describe()"
   ]
  },
  {
   "cell_type": "code",
   "execution_count": null,
   "id": "6ff5fb6d",
   "metadata": {},
   "outputs": [],
   "source": []
  },
  {
   "cell_type": "markdown",
   "id": "8853b5b5",
   "metadata": {},
   "source": [
    "## Cleaning Data\n",
    "In this section, We will fix the issues identified in the previous section."
   ]
  },
  {
   "cell_type": "markdown",
   "id": "e79fbd05",
   "metadata": {},
   "source": [
    "### Data type issues in id, zipcode and date column\n",
    "\n",
    "#### Define\n",
    "Convert id and zipcode columns to string data type.\n",
    "Convert date column to datetime datatype."
   ]
  },
  {
   "cell_type": "markdown",
   "id": "6b1a3fd1",
   "metadata": {},
   "source": [
    "#### Code"
   ]
  },
  {
   "cell_type": "code",
   "execution_count": 7,
   "id": "cba56bd2",
   "metadata": {},
   "outputs": [],
   "source": [
    "# Convert id and zipcode columns to string data type.\n",
    "df[\"zipcode\"] = df[\"zipcode\"].astype(\"str\")\n",
    "df[\"id\"] = df[\"id\"].astype(\"str\")\n",
    "\n",
    "# Convert date to date time data type.\n",
    "df[\"date\"] = pd.to_datetime(df[\"date\"])"
   ]
  },
  {
   "cell_type": "markdown",
   "id": "0563e587",
   "metadata": {},
   "source": [
    "#### Test"
   ]
  },
  {
   "cell_type": "code",
   "execution_count": 8,
   "id": "12f9674d",
   "metadata": {
    "scrolled": true
   },
   "outputs": [
    {
     "name": "stdout",
     "output_type": "stream",
     "text": [
      "<class 'pandas.core.frame.DataFrame'>\n",
      "RangeIndex: 21613 entries, 0 to 21612\n",
      "Data columns (total 3 columns):\n",
      " #   Column   Non-Null Count  Dtype         \n",
      "---  ------   --------------  -----         \n",
      " 0   date     21613 non-null  datetime64[ns]\n",
      " 1   id       21613 non-null  object        \n",
      " 2   zipcode  21613 non-null  object        \n",
      "dtypes: datetime64[ns](1), object(2)\n",
      "memory usage: 506.7+ KB\n"
     ]
    }
   ],
   "source": [
    "# Confirm the data types have been changed to the appropriate data type.\n",
    "df[[\"date\", \"id\", \"zipcode\"]].info()"
   ]
  },
  {
   "cell_type": "code",
   "execution_count": 9,
   "id": "0ca6545a",
   "metadata": {},
   "outputs": [
    {
     "data": {
      "text/plain": [
       "<AxesSubplot:>"
      ]
     },
     "execution_count": 9,
     "metadata": {},
     "output_type": "execute_result"
    },
    {
     "data": {
      "image/png": "[encoded data removed]",
      "text/plain": [
       "<Figure size 432x288 with 1 Axes>"
      ]
     },
     "metadata": {
      "needs_background": "light"
     },
     "output_type": "display_data"
    }
   ],
   "source": [
    "df[\"price\"].hist()"
   ]
  },
  {
   "cell_type": "markdown",
   "id": "6209b944",
   "metadata": {},
   "source": [
    "### Price is positively skewed\n",
    "\n",
    "#### Define\n",
    "Use IQR method to remove outliers from the price variables."
   ]
  },
  {
   "cell_type": "markdown",
   "id": "8bcee2b2",
   "metadata": {},
   "source": [
    "#### Code"
   ]
  },
  {
   "cell_type": "code",
   "execution_count": 10,
   "id": "937d0229",
   "metadata": {
    "scrolled": true
   },
   "outputs": [
    {
     "data": {
      "text/plain": [
       "(321950.0, 645000.0)"
      ]
     },
     "execution_count": 10,
     "metadata": {},
     "output_type": "execute_result"
    }
   ],
   "source": [
    "# Second and third quartile of price\n",
    "q25 = df[\"price\"].quantile(0.25)\n",
    "q75 = df[\"price\"].quantile(0.75)\n",
    "q25, q75"
   ]
  },
  {
   "cell_type": "code",
   "execution_count": 11,
   "id": "b8f8cff0",
   "metadata": {},
   "outputs": [
    {
     "data": {
      "text/plain": [
       "323050.0"
      ]
     },
     "execution_count": 11,
     "metadata": {},
     "output_type": "execute_result"
    }
   ],
   "source": [
    "# Interquartile range\n",
    "iqr = q75 -q25\n",
    "iqr"
   ]
  },
  {
   "cell_type": "code",
   "execution_count": 12,
   "id": "47aeb581",
   "metadata": {},
   "outputs": [
    {
     "data": {
      "text/plain": [
       "(-162625.0, 1129575.0)"
      ]
     },
     "execution_count": 12,
     "metadata": {},
     "output_type": "execute_result"
    }
   ],
   "source": [
    "# Upper and lower boundary.\n",
    "lower = q25 - (1.5 * iqr)\n",
    "upper = q75 + (1.5 * iqr)\n",
    "lower, upper"
   ]
  },
  {
   "cell_type": "code",
   "execution_count": 13,
   "id": "0499b840",
   "metadata": {},
   "outputs": [],
   "source": [
    "# Exclude outliers from dataset.\n",
    "\n",
    "df = df[df[\"price\"].between(lower, upper)]"
   ]
  },
  {
   "cell_type": "markdown",
   "id": "066669b1",
   "metadata": {},
   "source": [
    "#### Test"
   ]
  },
  {
   "cell_type": "code",
   "execution_count": 14,
   "id": "e1ef4c44",
   "metadata": {
    "scrolled": true
   },
   "outputs": [
    {
     "data": {
      "text/plain": [
       "(20467, 21)"
      ]
     },
     "execution_count": 14,
     "metadata": {},
     "output_type": "execute_result"
    }
   ],
   "source": [
    "# Shape of new dataframe.\n",
    "\n",
    "df.shape"
   ]
  },
  {
   "cell_type": "code",
   "execution_count": 15,
   "id": "c86655f4",
   "metadata": {},
   "outputs": [
    {
     "name": "stdout",
     "output_type": "stream",
     "text": [
      "<class 'pandas.core.frame.DataFrame'>\n",
      "Int64Index: 20467 entries, 0 to 21612\n",
      "Data columns (total 21 columns):\n",
      " #   Column         Non-Null Count  Dtype         \n",
      "---  ------         --------------  -----         \n",
      " 0   id             20467 non-null  object        \n",
      " 1   date           20467 non-null  datetime64[ns]\n",
      " 2   price          20467 non-null  float64       \n",
      " 3   bedrooms       20467 non-null  int64         \n",
      " 4   bathrooms      20467 non-null  float64       \n",
      " 5   sqft_living    20467 non-null  int64         \n",
      " 6   sqft_lot       20467 non-null  int64         \n",
      " 7   floors         20467 non-null  float64       \n",
      " 8   waterfront     20467 non-null  int64         \n",
      " 9   view           20467 non-null  int64         \n",
      " 10  condition      20467 non-null  int64         \n",
      " 11  grade          20467 non-null  int64         \n",
      " 12  sqft_above     20467 non-null  int64         \n",
      " 13  sqft_basement  20467 non-null  int64         \n",
      " 14  yr_built       20467 non-null  int64         \n",
      " 15  yr_renovated   20467 non-null  int64         \n",
      " 16  zipcode        20467 non-null  object        \n",
      " 17  lat            20467 non-null  float64       \n",
      " 18  long           20467 non-null  float64       \n",
      " 19  sqft_living15  20467 non-null  int64         \n",
      " 20  sqft_lot15     20467 non-null  int64         \n",
      "dtypes: datetime64[ns](1), float64(5), int64(13), object(2)\n",
      "memory usage: 3.4+ MB\n"
     ]
    }
   ],
   "source": [
    "# Check the new dataset information to confirm chane.\n",
    "\n",
    "df.info()"
   ]
  },
  {
   "cell_type": "code",
   "execution_count": null,
   "id": "c16d06b0",
   "metadata": {},
   "outputs": [],
   "source": []
  },
  {
   "cell_type": "markdown",
   "id": "fb04b9d6",
   "metadata": {},
   "source": [
    "### Duplicates of house id"
   ]
  },
  {
   "cell_type": "markdown",
   "id": "5bcd8d7e",
   "metadata": {},
   "source": [
    "#### Define\n",
    "Get rid of duplicate records of houses that appeared more than once."
   ]
  },
  {
   "cell_type": "code",
   "execution_count": 16,
   "id": "cf491103",
   "metadata": {},
   "outputs": [
    {
     "name": "stdout",
     "output_type": "stream",
     "text": [
      "The dataset has a duplicates of 0\n",
      "The id has a duplicates of 170\n"
     ]
    }
   ],
   "source": [
    "# Number of duplicates\n",
    "print(\"The dataset has a duplicates of\", df.duplicated().sum())\n",
    "print(\"The id has a duplicates of\", df[\"id\"].duplicated().sum())\n"
   ]
  },
  {
   "cell_type": "markdown",
   "id": "230005ca",
   "metadata": {},
   "source": [
    "#### Code"
   ]
  },
  {
   "cell_type": "code",
   "execution_count": 17,
   "id": "2e7e5bb7",
   "metadata": {
    "scrolled": true
   },
   "outputs": [
    {
     "data": {
      "text/html": [
       "<div>\n",
       "<style scoped>\n",
       "    .dataframe tbody tr th:only-of-type {\n",
       "        vertical-align: middle;\n",
       "    }\n",
       "\n",
       "    .dataframe tbody tr th {\n",
       "        vertical-align: top;\n",
       "    }\n",
       "\n",
       "    .dataframe thead th {\n",
       "        text-align: right;\n",
       "    }\n",
       "</style>\n",
       "<table border=\"1\" class=\"dataframe\">\n",
       "  <thead>\n",
       "    <tr style=\"text-align: right;\">\n",
       "      <th></th>\n",
       "      <th>id</th>\n",
       "      <th>date</th>\n",
       "      <th>price</th>\n",
       "      <th>bedrooms</th>\n",
       "      <th>bathrooms</th>\n",
       "      <th>sqft_living</th>\n",
       "      <th>sqft_lot</th>\n",
       "      <th>floors</th>\n",
       "      <th>waterfront</th>\n",
       "      <th>view</th>\n",
       "      <th>condition</th>\n",
       "      <th>grade</th>\n",
       "      <th>sqft_above</th>\n",
       "      <th>sqft_basement</th>\n",
       "      <th>yr_built</th>\n",
       "      <th>yr_renovated</th>\n",
       "      <th>zipcode</th>\n",
       "      <th>lat</th>\n",
       "      <th>long</th>\n",
       "      <th>sqft_living15</th>\n",
       "      <th>sqft_lot15</th>\n",
       "    </tr>\n",
       "  </thead>\n",
       "  <tbody>\n",
       "    <tr>\n",
       "      <th>94</th>\n",
       "      <td>6021501535</td>\n",
       "      <td>2014-12-23</td>\n",
       "      <td>700000.0</td>\n",
       "      <td>3</td>\n",
       "      <td>1.50</td>\n",
       "      <td>1580</td>\n",
       "      <td>5000</td>\n",
       "      <td>1.0</td>\n",
       "      <td>0</td>\n",
       "      <td>0</td>\n",
       "      <td>3</td>\n",
       "      <td>8</td>\n",
       "      <td>1290</td>\n",
       "      <td>290</td>\n",
       "      <td>1939</td>\n",
       "      <td>0</td>\n",
       "      <td>98117</td>\n",
       "      <td>47.6870</td>\n",
       "      <td>-122.386</td>\n",
       "      <td>1570</td>\n",
       "      <td>4500</td>\n",
       "    </tr>\n",
       "    <tr>\n",
       "      <th>325</th>\n",
       "      <td>7520000520</td>\n",
       "      <td>2015-03-11</td>\n",
       "      <td>240500.0</td>\n",
       "      <td>2</td>\n",
       "      <td>1.00</td>\n",
       "      <td>1240</td>\n",
       "      <td>12092</td>\n",
       "      <td>1.0</td>\n",
       "      <td>0</td>\n",
       "      <td>0</td>\n",
       "      <td>3</td>\n",
       "      <td>6</td>\n",
       "      <td>960</td>\n",
       "      <td>280</td>\n",
       "      <td>1922</td>\n",
       "      <td>1984</td>\n",
       "      <td>98146</td>\n",
       "      <td>47.4957</td>\n",
       "      <td>-122.352</td>\n",
       "      <td>1820</td>\n",
       "      <td>7460</td>\n",
       "    </tr>\n",
       "    <tr>\n",
       "      <th>346</th>\n",
       "      <td>3969300030</td>\n",
       "      <td>2014-12-29</td>\n",
       "      <td>239900.0</td>\n",
       "      <td>4</td>\n",
       "      <td>1.00</td>\n",
       "      <td>1000</td>\n",
       "      <td>7134</td>\n",
       "      <td>1.0</td>\n",
       "      <td>0</td>\n",
       "      <td>0</td>\n",
       "      <td>3</td>\n",
       "      <td>6</td>\n",
       "      <td>1000</td>\n",
       "      <td>0</td>\n",
       "      <td>1943</td>\n",
       "      <td>0</td>\n",
       "      <td>98178</td>\n",
       "      <td>47.4897</td>\n",
       "      <td>-122.240</td>\n",
       "      <td>1020</td>\n",
       "      <td>7138</td>\n",
       "    </tr>\n",
       "    <tr>\n",
       "      <th>372</th>\n",
       "      <td>2231500030</td>\n",
       "      <td>2015-03-24</td>\n",
       "      <td>530000.0</td>\n",
       "      <td>4</td>\n",
       "      <td>2.25</td>\n",
       "      <td>2180</td>\n",
       "      <td>10754</td>\n",
       "      <td>1.0</td>\n",
       "      <td>0</td>\n",
       "      <td>0</td>\n",
       "      <td>5</td>\n",
       "      <td>7</td>\n",
       "      <td>1100</td>\n",
       "      <td>1080</td>\n",
       "      <td>1954</td>\n",
       "      <td>0</td>\n",
       "      <td>98133</td>\n",
       "      <td>47.7711</td>\n",
       "      <td>-122.341</td>\n",
       "      <td>1810</td>\n",
       "      <td>6929</td>\n",
       "    </tr>\n",
       "    <tr>\n",
       "      <th>718</th>\n",
       "      <td>8820903380</td>\n",
       "      <td>2015-01-02</td>\n",
       "      <td>730000.0</td>\n",
       "      <td>6</td>\n",
       "      <td>2.25</td>\n",
       "      <td>2660</td>\n",
       "      <td>13579</td>\n",
       "      <td>2.0</td>\n",
       "      <td>0</td>\n",
       "      <td>0</td>\n",
       "      <td>3</td>\n",
       "      <td>7</td>\n",
       "      <td>2660</td>\n",
       "      <td>0</td>\n",
       "      <td>1937</td>\n",
       "      <td>1990</td>\n",
       "      <td>98125</td>\n",
       "      <td>47.7142</td>\n",
       "      <td>-122.286</td>\n",
       "      <td>1120</td>\n",
       "      <td>8242</td>\n",
       "    </tr>\n",
       "  </tbody>\n",
       "</table>\n",
       "</div>"
      ],
      "text/plain": [
       "             id       date     price  bedrooms  bathrooms  sqft_living  \\\n",
       "94   6021501535 2014-12-23  700000.0         3       1.50         1580   \n",
       "325  7520000520 2015-03-11  240500.0         2       1.00         1240   \n",
       "346  3969300030 2014-12-29  239900.0         4       1.00         1000   \n",
       "372  2231500030 2015-03-24  530000.0         4       2.25         2180   \n",
       "718  8820903380 2015-01-02  730000.0         6       2.25         2660   \n",
       "\n",
       "     sqft_lot  floors  waterfront  view  condition  grade  sqft_above  \\\n",
       "94       5000     1.0           0     0          3      8        1290   \n",
       "325     12092     1.0           0     0          3      6         960   \n",
       "346      7134     1.0           0     0          3      6        1000   \n",
       "372     10754     1.0           0     0          5      7        1100   \n",
       "718     13579     2.0           0     0          3      7        2660   \n",
       "\n",
       "     sqft_basement  yr_built  yr_renovated zipcode      lat     long  \\\n",
       "94             290      1939             0   98117  47.6870 -122.386   \n",
       "325            280      1922          1984   98146  47.4957 -122.352   \n",
       "346              0      1943             0   98178  47.4897 -122.240   \n",
       "372           1080      1954             0   98133  47.7711 -122.341   \n",
       "718              0      1937          1990   98125  47.7142 -122.286   \n",
       "\n",
       "     sqft_living15  sqft_lot15  \n",
       "94            1570        4500  \n",
       "325           1820        7460  \n",
       "346           1020        7138  \n",
       "372           1810        6929  \n",
       "718           1120        8242  "
      ]
     },
     "execution_count": 17,
     "metadata": {},
     "output_type": "execute_result"
    }
   ],
   "source": [
    "# Records of the duplicated id.\n",
    "\n",
    "duplicate = df[df[\"id\"].duplicated()]\n",
    "duplicate.head()"
   ]
  },
  {
   "cell_type": "code",
   "execution_count": 18,
   "id": "a61c0e5e",
   "metadata": {
    "scrolled": false
   },
   "outputs": [
    {
     "data": {
      "text/html": [
       "<div>\n",
       "<style scoped>\n",
       "    .dataframe tbody tr th:only-of-type {\n",
       "        vertical-align: middle;\n",
       "    }\n",
       "\n",
       "    .dataframe tbody tr th {\n",
       "        vertical-align: top;\n",
       "    }\n",
       "\n",
       "    .dataframe thead th {\n",
       "        text-align: right;\n",
       "    }\n",
       "</style>\n",
       "<table border=\"1\" class=\"dataframe\">\n",
       "  <thead>\n",
       "    <tr style=\"text-align: right;\">\n",
       "      <th></th>\n",
       "      <th>id</th>\n",
       "      <th>date</th>\n",
       "      <th>price</th>\n",
       "      <th>bedrooms</th>\n",
       "      <th>bathrooms</th>\n",
       "      <th>sqft_living</th>\n",
       "      <th>sqft_lot</th>\n",
       "      <th>floors</th>\n",
       "      <th>waterfront</th>\n",
       "      <th>view</th>\n",
       "      <th>condition</th>\n",
       "      <th>grade</th>\n",
       "      <th>sqft_above</th>\n",
       "      <th>sqft_basement</th>\n",
       "      <th>yr_built</th>\n",
       "      <th>yr_renovated</th>\n",
       "      <th>zipcode</th>\n",
       "      <th>lat</th>\n",
       "      <th>long</th>\n",
       "      <th>sqft_living15</th>\n",
       "      <th>sqft_lot15</th>\n",
       "    </tr>\n",
       "  </thead>\n",
       "  <tbody>\n",
       "    <tr>\n",
       "      <th>93</th>\n",
       "      <td>6021501535</td>\n",
       "      <td>2014-07-25</td>\n",
       "      <td>430000.0</td>\n",
       "      <td>3</td>\n",
       "      <td>1.50</td>\n",
       "      <td>1580</td>\n",
       "      <td>5000</td>\n",
       "      <td>1.0</td>\n",
       "      <td>0</td>\n",
       "      <td>0</td>\n",
       "      <td>3</td>\n",
       "      <td>8</td>\n",
       "      <td>1290</td>\n",
       "      <td>290</td>\n",
       "      <td>1939</td>\n",
       "      <td>0</td>\n",
       "      <td>98117</td>\n",
       "      <td>47.6870</td>\n",
       "      <td>-122.386</td>\n",
       "      <td>1570</td>\n",
       "      <td>4500</td>\n",
       "    </tr>\n",
       "    <tr>\n",
       "      <th>94</th>\n",
       "      <td>6021501535</td>\n",
       "      <td>2014-12-23</td>\n",
       "      <td>700000.0</td>\n",
       "      <td>3</td>\n",
       "      <td>1.50</td>\n",
       "      <td>1580</td>\n",
       "      <td>5000</td>\n",
       "      <td>1.0</td>\n",
       "      <td>0</td>\n",
       "      <td>0</td>\n",
       "      <td>3</td>\n",
       "      <td>8</td>\n",
       "      <td>1290</td>\n",
       "      <td>290</td>\n",
       "      <td>1939</td>\n",
       "      <td>0</td>\n",
       "      <td>98117</td>\n",
       "      <td>47.6870</td>\n",
       "      <td>-122.386</td>\n",
       "      <td>1570</td>\n",
       "      <td>4500</td>\n",
       "    </tr>\n",
       "    <tr>\n",
       "      <th>324</th>\n",
       "      <td>7520000520</td>\n",
       "      <td>2014-09-05</td>\n",
       "      <td>232000.0</td>\n",
       "      <td>2</td>\n",
       "      <td>1.00</td>\n",
       "      <td>1240</td>\n",
       "      <td>12092</td>\n",
       "      <td>1.0</td>\n",
       "      <td>0</td>\n",
       "      <td>0</td>\n",
       "      <td>3</td>\n",
       "      <td>6</td>\n",
       "      <td>960</td>\n",
       "      <td>280</td>\n",
       "      <td>1922</td>\n",
       "      <td>1984</td>\n",
       "      <td>98146</td>\n",
       "      <td>47.4957</td>\n",
       "      <td>-122.352</td>\n",
       "      <td>1820</td>\n",
       "      <td>7460</td>\n",
       "    </tr>\n",
       "    <tr>\n",
       "      <th>325</th>\n",
       "      <td>7520000520</td>\n",
       "      <td>2015-03-11</td>\n",
       "      <td>240500.0</td>\n",
       "      <td>2</td>\n",
       "      <td>1.00</td>\n",
       "      <td>1240</td>\n",
       "      <td>12092</td>\n",
       "      <td>1.0</td>\n",
       "      <td>0</td>\n",
       "      <td>0</td>\n",
       "      <td>3</td>\n",
       "      <td>6</td>\n",
       "      <td>960</td>\n",
       "      <td>280</td>\n",
       "      <td>1922</td>\n",
       "      <td>1984</td>\n",
       "      <td>98146</td>\n",
       "      <td>47.4957</td>\n",
       "      <td>-122.352</td>\n",
       "      <td>1820</td>\n",
       "      <td>7460</td>\n",
       "    </tr>\n",
       "    <tr>\n",
       "      <th>345</th>\n",
       "      <td>3969300030</td>\n",
       "      <td>2014-07-23</td>\n",
       "      <td>165000.0</td>\n",
       "      <td>4</td>\n",
       "      <td>1.00</td>\n",
       "      <td>1000</td>\n",
       "      <td>7134</td>\n",
       "      <td>1.0</td>\n",
       "      <td>0</td>\n",
       "      <td>0</td>\n",
       "      <td>3</td>\n",
       "      <td>6</td>\n",
       "      <td>1000</td>\n",
       "      <td>0</td>\n",
       "      <td>1943</td>\n",
       "      <td>0</td>\n",
       "      <td>98178</td>\n",
       "      <td>47.4897</td>\n",
       "      <td>-122.240</td>\n",
       "      <td>1020</td>\n",
       "      <td>7138</td>\n",
       "    </tr>\n",
       "    <tr>\n",
       "      <th>346</th>\n",
       "      <td>3969300030</td>\n",
       "      <td>2014-12-29</td>\n",
       "      <td>239900.0</td>\n",
       "      <td>4</td>\n",
       "      <td>1.00</td>\n",
       "      <td>1000</td>\n",
       "      <td>7134</td>\n",
       "      <td>1.0</td>\n",
       "      <td>0</td>\n",
       "      <td>0</td>\n",
       "      <td>3</td>\n",
       "      <td>6</td>\n",
       "      <td>1000</td>\n",
       "      <td>0</td>\n",
       "      <td>1943</td>\n",
       "      <td>0</td>\n",
       "      <td>98178</td>\n",
       "      <td>47.4897</td>\n",
       "      <td>-122.240</td>\n",
       "      <td>1020</td>\n",
       "      <td>7138</td>\n",
       "    </tr>\n",
       "    <tr>\n",
       "      <th>371</th>\n",
       "      <td>2231500030</td>\n",
       "      <td>2014-10-01</td>\n",
       "      <td>315000.0</td>\n",
       "      <td>4</td>\n",
       "      <td>2.25</td>\n",
       "      <td>2180</td>\n",
       "      <td>10754</td>\n",
       "      <td>1.0</td>\n",
       "      <td>0</td>\n",
       "      <td>0</td>\n",
       "      <td>5</td>\n",
       "      <td>7</td>\n",
       "      <td>1100</td>\n",
       "      <td>1080</td>\n",
       "      <td>1954</td>\n",
       "      <td>0</td>\n",
       "      <td>98133</td>\n",
       "      <td>47.7711</td>\n",
       "      <td>-122.341</td>\n",
       "      <td>1810</td>\n",
       "      <td>6929</td>\n",
       "    </tr>\n",
       "    <tr>\n",
       "      <th>372</th>\n",
       "      <td>2231500030</td>\n",
       "      <td>2015-03-24</td>\n",
       "      <td>530000.0</td>\n",
       "      <td>4</td>\n",
       "      <td>2.25</td>\n",
       "      <td>2180</td>\n",
       "      <td>10754</td>\n",
       "      <td>1.0</td>\n",
       "      <td>0</td>\n",
       "      <td>0</td>\n",
       "      <td>5</td>\n",
       "      <td>7</td>\n",
       "      <td>1100</td>\n",
       "      <td>1080</td>\n",
       "      <td>1954</td>\n",
       "      <td>0</td>\n",
       "      <td>98133</td>\n",
       "      <td>47.7711</td>\n",
       "      <td>-122.341</td>\n",
       "      <td>1810</td>\n",
       "      <td>6929</td>\n",
       "    </tr>\n",
       "    <tr>\n",
       "      <th>717</th>\n",
       "      <td>8820903380</td>\n",
       "      <td>2014-07-28</td>\n",
       "      <td>452000.0</td>\n",
       "      <td>6</td>\n",
       "      <td>2.25</td>\n",
       "      <td>2660</td>\n",
       "      <td>13579</td>\n",
       "      <td>2.0</td>\n",
       "      <td>0</td>\n",
       "      <td>0</td>\n",
       "      <td>3</td>\n",
       "      <td>7</td>\n",
       "      <td>2660</td>\n",
       "      <td>0</td>\n",
       "      <td>1937</td>\n",
       "      <td>1990</td>\n",
       "      <td>98125</td>\n",
       "      <td>47.7142</td>\n",
       "      <td>-122.286</td>\n",
       "      <td>1120</td>\n",
       "      <td>8242</td>\n",
       "    </tr>\n",
       "    <tr>\n",
       "      <th>718</th>\n",
       "      <td>8820903380</td>\n",
       "      <td>2015-01-02</td>\n",
       "      <td>730000.0</td>\n",
       "      <td>6</td>\n",
       "      <td>2.25</td>\n",
       "      <td>2660</td>\n",
       "      <td>13579</td>\n",
       "      <td>2.0</td>\n",
       "      <td>0</td>\n",
       "      <td>0</td>\n",
       "      <td>3</td>\n",
       "      <td>7</td>\n",
       "      <td>2660</td>\n",
       "      <td>0</td>\n",
       "      <td>1937</td>\n",
       "      <td>1990</td>\n",
       "      <td>98125</td>\n",
       "      <td>47.7142</td>\n",
       "      <td>-122.286</td>\n",
       "      <td>1120</td>\n",
       "      <td>8242</td>\n",
       "    </tr>\n",
       "  </tbody>\n",
       "</table>\n",
       "</div>"
      ],
      "text/plain": [
       "             id       date     price  bedrooms  bathrooms  sqft_living  \\\n",
       "93   6021501535 2014-07-25  430000.0         3       1.50         1580   \n",
       "94   6021501535 2014-12-23  700000.0         3       1.50         1580   \n",
       "324  7520000520 2014-09-05  232000.0         2       1.00         1240   \n",
       "325  7520000520 2015-03-11  240500.0         2       1.00         1240   \n",
       "345  3969300030 2014-07-23  165000.0         4       1.00         1000   \n",
       "346  3969300030 2014-12-29  239900.0         4       1.00         1000   \n",
       "371  2231500030 2014-10-01  315000.0         4       2.25         2180   \n",
       "372  2231500030 2015-03-24  530000.0         4       2.25         2180   \n",
       "717  8820903380 2014-07-28  452000.0         6       2.25         2660   \n",
       "718  8820903380 2015-01-02  730000.0         6       2.25         2660   \n",
       "\n",
       "     sqft_lot  floors  waterfront  view  condition  grade  sqft_above  \\\n",
       "93       5000     1.0           0     0          3      8        1290   \n",
       "94       5000     1.0           0     0          3      8        1290   \n",
       "324     12092     1.0           0     0          3      6         960   \n",
       "325     12092     1.0           0     0          3      6         960   \n",
       "345      7134     1.0           0     0          3      6        1000   \n",
       "346      7134     1.0           0     0          3      6        1000   \n",
       "371     10754     1.0           0     0          5      7        1100   \n",
       "372     10754     1.0           0     0          5      7        1100   \n",
       "717     13579     2.0           0     0          3      7        2660   \n",
       "718     13579     2.0           0     0          3      7        2660   \n",
       "\n",
       "     sqft_basement  yr_built  yr_renovated zipcode      lat     long  \\\n",
       "93             290      1939             0   98117  47.6870 -122.386   \n",
       "94             290      1939             0   98117  47.6870 -122.386   \n",
       "324            280      1922          1984   98146  47.4957 -122.352   \n",
       "325            280      1922          1984   98146  47.4957 -122.352   \n",
       "345              0      1943             0   98178  47.4897 -122.240   \n",
       "346              0      1943             0   98178  47.4897 -122.240   \n",
       "371           1080      1954             0   98133  47.7711 -122.341   \n",
       "372           1080      1954             0   98133  47.7711 -122.341   \n",
       "717              0      1937          1990   98125  47.7142 -122.286   \n",
       "718              0      1937          1990   98125  47.7142 -122.286   \n",
       "\n",
       "     sqft_living15  sqft_lot15  \n",
       "93            1570        4500  \n",
       "94            1570        4500  \n",
       "324           1820        7460  \n",
       "325           1820        7460  \n",
       "345           1020        7138  \n",
       "346           1020        7138  \n",
       "371           1810        6929  \n",
       "372           1810        6929  \n",
       "717           1120        8242  \n",
       "718           1120        8242  "
      ]
     },
     "execution_count": 18,
     "metadata": {},
     "output_type": "execute_result"
    }
   ],
   "source": [
    "# Compare the duplicate of records with their duplicates.\n",
    "# You will find that only their dates are the different.\n",
    "\n",
    "duplicate_list = pd.DataFrame()\n",
    "for id in duplicate[\"id\"]:\n",
    "    duplicate_list= duplicate_list.append(df[df[\"id\"] == id])\n",
    "duplicate_list.head(10)"
   ]
  },
  {
   "cell_type": "markdown",
   "id": "b858ca1e",
   "metadata": {},
   "source": [
    "#### Note\n",
    "When we compare the duplicate of records with the same id with their duplicates, you will find that only their sales dates are different. This means that those houses were later resold."
   ]
  },
  {
   "cell_type": "markdown",
   "id": "0187b462",
   "metadata": {},
   "source": [
    "#### Note: \n",
    "From the above result, I found that the records of houses that have their id duplicated have the same features except their sales date.\n",
    "This implies that such houses were sold and later resold. Since I will be dealing with unique records per house in this analysis, I will get rid of such duplicate records in the dataset."
   ]
  },
  {
   "cell_type": "code",
   "execution_count": 19,
   "id": "9509ffbd",
   "metadata": {},
   "outputs": [],
   "source": [
    "# Get rid of records with duplicate id.\n",
    "\n",
    "df.drop_duplicates(\"id\", inplace=True)"
   ]
  },
  {
   "cell_type": "markdown",
   "id": "69f63941",
   "metadata": {},
   "source": [
    "#### Test"
   ]
  },
  {
   "cell_type": "code",
   "execution_count": 20,
   "id": "8a3b4ca7",
   "metadata": {},
   "outputs": [
    {
     "data": {
      "text/plain": [
       "0"
      ]
     },
     "execution_count": 20,
     "metadata": {},
     "output_type": "execute_result"
    }
   ],
   "source": [
    "# Confirm there is no more duplicate record in \"id\" column.\n",
    "\n",
    "df[\"id\"].duplicated().sum()"
   ]
  },
  {
   "cell_type": "code",
   "execution_count": 21,
   "id": "fc591f13",
   "metadata": {},
   "outputs": [
    {
     "data": {
      "text/plain": [
       "(20297, 21)"
      ]
     },
     "execution_count": 21,
     "metadata": {},
     "output_type": "execute_result"
    }
   ],
   "source": [
    "# Confirm that the number of rows have been reduced.\n",
    "\n",
    "df.shape"
   ]
  },
  {
   "cell_type": "markdown",
   "id": "f5ca4445",
   "metadata": {},
   "source": [
    "### Note:\n",
    "Now, let's determine the data that will be used for the modelling.\n",
    "Since we will be building a linear regression model in this project. A linear regression model work best with data that are best correlated with the target variable.\n",
    "\n",
    "Knowing that we will be predicting the price of houses in king county, USA in this project, we will build our model with features of houses that have a correlation with price. This means that we will only be looking out for house features with correlation greater or equal to 0.5 \n",
    "\n",
    "Next, We will plot a heatmap of all the house features in the dataset to look out for features that are correlated with price.\n"
   ]
  },
  {
   "cell_type": "code",
   "execution_count": 22,
   "id": "617d37d8",
   "metadata": {
    "scrolled": true
   },
   "outputs": [
    {
     "data": {
      "text/plain": [
       "<AxesSubplot:>"
      ]
     },
     "execution_count": 22,
     "metadata": {},
     "output_type": "execute_result"
    },
    {
     "data": {
      "image/png": "[encoded data removed]",
      "text/plain": [
       "<Figure size 1080x720 with 2 Axes>"
      ]
     },
     "metadata": {
      "needs_background": "light"
     },
     "output_type": "display_data"
    }
   ],
   "source": [
    "# Correlation of house features.\n",
    "plt.figure(figsize=(15, 10))\n",
    "sns.heatmap(df.corr(), annot=True)"
   ]
  },
  {
   "cell_type": "markdown",
   "id": "5ada0748",
   "metadata": {},
   "source": [
    "### Note:\n",
    "There are so mauch values in the heatmap. Let's narrow it down to data that are correlated with price."
   ]
  },
  {
   "cell_type": "code",
   "execution_count": 23,
   "id": "468686b3",
   "metadata": {
    "scrolled": true
   },
   "outputs": [
    {
     "data": {
      "text/plain": [
       "price            1.000000\n",
       "grade            0.631656\n",
       "sqft_living      0.622605\n",
       "sqft_living15    0.562450\n",
       "sqft_above       0.530795\n",
       "bathrooms        0.455954\n",
       "Name: price, dtype: float64"
      ]
     },
     "execution_count": 23,
     "metadata": {},
     "output_type": "execute_result"
    }
   ],
   "source": [
    "# The highest six value positively correlated with price.\n",
    "df.corr()[\"price\"].nlargest(6)"
   ]
  },
  {
   "cell_type": "markdown",
   "id": "6e1ab27a",
   "metadata": {},
   "source": [
    "### Note:\n",
    "We will exclude the feature with correlation lower than 0.5\n",
    "Next, we will see if there are negatively correlated features with price."
   ]
  },
  {
   "cell_type": "code",
   "execution_count": 24,
   "id": "a71fbdae",
   "metadata": {},
   "outputs": [
    {
     "data": {
      "text/plain": [
       "condition     0.037711\n",
       "waterfront    0.051560\n",
       "yr_built      0.060540\n",
       "long          0.070477\n",
       "sqft_lot15    0.082467\n",
       "Name: price, dtype: float64"
      ]
     },
     "execution_count": 24,
     "metadata": {},
     "output_type": "execute_result"
    }
   ],
   "source": [
    "# The highest six features negatively correlated with price.\n",
    "\n",
    "df.corr()[\"price\"].nsmallest(5)"
   ]
  },
  {
   "cell_type": "markdown",
   "id": "3e4da1e8",
   "metadata": {},
   "source": [
    "### Note:\n",
    "We can see that there are no house features that are negatively correlated with price in the dataset.\n",
    "Below are the list of the house features that will be used for building our model in this project.\n",
    "Our choice of this features bores down to their positive correlation with the price of houses."
   ]
  },
  {
   "cell_type": "code",
   "execution_count": 25,
   "id": "7a66871b",
   "metadata": {
    "scrolled": false
   },
   "outputs": [
    {
     "data": {
      "text/plain": [
       "['grade', 'sqft_living', 'sqft_living15', 'sqft_above']"
      ]
     },
     "execution_count": 25,
     "metadata": {},
     "output_type": "execute_result"
    }
   ],
   "source": [
    "# House features that will be used for building our model.\n",
    "\n",
    "list(df.corr()[\"price\"].nlargest(5).index)[1:]\n"
   ]
  },
  {
   "cell_type": "markdown",
   "id": "7864cac0",
   "metadata": {},
   "source": [
    "### Note:\n",
    "After cleaning the data and identifying house features that will be used for building our model, We can now move to splitting data that will be used for building our model."
   ]
  },
  {
   "cell_type": "code",
   "execution_count": null,
   "id": "8bb73c98",
   "metadata": {
    "scrolled": true
   },
   "outputs": [],
   "source": []
  },
  {
   "cell_type": "code",
   "execution_count": null,
   "id": "32047f35",
   "metadata": {},
   "outputs": [],
   "source": []
  },
  {
   "cell_type": "markdown",
   "id": "da2ec38a",
   "metadata": {},
   "source": [
    "## Split"
   ]
  },
  {
   "cell_type": "markdown",
   "id": "2c568845",
   "metadata": {},
   "source": [
    "### Note:\n",
    "In this section, we will be splitting our data into feature matrix and target vector.\n",
    "\n",
    "The feature matrix will be serve as our predictor variable while the target vector will serve as  the variable to be predicted."
   ]
  },
  {
   "cell_type": "code",
   "execution_count": 26,
   "id": "d6c8b1c8",
   "metadata": {},
   "outputs": [],
   "source": [
    "# Split data into feature matrix and target variable.\n",
    "\n",
    "features = [\"sqft_living\"]\n",
    "target = \"price\"\n",
    "X = df[features]\n",
    "y = df[target]\n"
   ]
  },
  {
   "cell_type": "markdown",
   "id": "40def932",
   "metadata": {},
   "source": [
    "### Note:\n",
    "Next, we will divide our feature matrix and target vector into two sets: training and test data. We will randomly attribute 80 percent portion of the data to the training set. The training data will be used to build the model. The remaining 20 percent will be used to evaluate our model performance.\n"
   ]
  },
  {
   "cell_type": "code",
   "execution_count": 27,
   "id": "692e9997",
   "metadata": {},
   "outputs": [],
   "source": [
    "# Split data into training and data set.\n",
    "\n",
    "X_train, X_test, y_train, y_test = train_test_split(X, y, test_size=0.2, random_state=42)"
   ]
  },
  {
   "cell_type": "code",
   "execution_count": 28,
   "id": "92b99558",
   "metadata": {},
   "outputs": [
    {
     "data": {
      "text/plain": [
       "(True, True)"
      ]
     },
     "execution_count": 28,
     "metadata": {},
     "output_type": "execute_result"
    }
   ],
   "source": [
    "# Confirm that the size of the features and target data are the same.\n",
    "\n",
    "len(X_train) == len(y_train), len(X_test) == len(y_test) # True means they are of the same size."
   ]
  },
  {
   "cell_type": "markdown",
   "id": "6167e48e",
   "metadata": {},
   "source": [
    "# Build Model"
   ]
  },
  {
   "cell_type": "markdown",
   "id": "6fa23776",
   "metadata": {},
   "source": [
    "## Baseline\n",
    "### Note:\n",
    "In this section, we will determine our baseline. The baseline will be used to evaluate our model performance.\n",
    "If our model performance value for the test data is higher than the baseline, there is a problem but if we beat the baseline: our model performance value is lower than the baseline, the model passed."
   ]
  },
  {
   "cell_type": "code",
   "execution_count": null,
   "id": "dfae66fa",
   "metadata": {},
   "outputs": [],
   "source": []
  },
  {
   "cell_type": "code",
   "execution_count": 29,
   "id": "afa16f69",
   "metadata": {},
   "outputs": [],
   "source": [
    "# Determine a baseline that will be used to confirm the accuracy of our model predictions.\n",
    "\n",
    "# Mean of target data.\n",
    "mean = y_train.mean()\n",
    "\n",
    "# Set mean as baseline for all columns.\n",
    "\n",
    "y_pred_baseline = len(y_train) * [mean]"
   ]
  },
  {
   "cell_type": "code",
   "execution_count": 30,
   "id": "3a9350a3",
   "metadata": {
    "scrolled": true
   },
   "outputs": [
    {
     "data": {
      "text/plain": [
       "168634"
      ]
     },
     "execution_count": 30,
     "metadata": {},
     "output_type": "execute_result"
    }
   ],
   "source": [
    "# Mean absolute error of the baseline.\n",
    "\n",
    "mae_baseline = round(mean_absolute_error(y_train, y_pred_baseline))\n",
    "mae_baseline"
   ]
  },
  {
   "cell_type": "markdown",
   "id": "aa3c4751",
   "metadata": {},
   "source": [
    "### Note:\n",
    "Since our baseline is 168,0000. we will be hoping that the mean absolute error of our test data is lower than this value, if it does, the model passed."
   ]
  },
  {
   "cell_type": "markdown",
   "id": "5b12a1f0",
   "metadata": {},
   "source": [
    "## Build\n",
    "Here, we will start by building a simple linear regression model that will use the area of apartment interior living space to predict the price of houses in king county, USA. A simple linear regression model is a model that takes a single independent variable to predict a dependent variable.\n",
    "\n",
    "Later, we will build a multiple linear regression model that uses more than one value to predict the price of houses.\n",
    "### Simple Linear Regression"
   ]
  },
  {
   "cell_type": "code",
   "execution_count": 31,
   "id": "ff0b9684",
   "metadata": {},
   "outputs": [
    {
     "data": {
      "text/plain": [
       "LinearRegression()"
      ]
     },
     "execution_count": 31,
     "metadata": {},
     "output_type": "execute_result"
    }
   ],
   "source": [
    "# Instantiate a linear regression model.\n",
    "\n",
    "model_lr = LinearRegression()\n",
    "\n",
    "# Fit the model to the training the data.\n",
    "\n",
    "model_lr.fit(X_train, y_train)"
   ]
  },
  {
   "cell_type": "markdown",
   "id": "d75312b2",
   "metadata": {},
   "source": [
    "## Predict\n",
    "Use the built model to predict the price of houses. First for the training data and then for the test data."
   ]
  },
  {
   "cell_type": "code",
   "execution_count": 32,
   "id": "04c81d4f",
   "metadata": {},
   "outputs": [
    {
     "data": {
      "text/plain": [
       "array([368849.09458638, 766203.73623347, 343805.7348187 , 382205.55312913,\n",
       "       584221.98858837])"
      ]
     },
     "execution_count": 32,
     "metadata": {},
     "output_type": "execute_result"
    }
   ],
   "source": [
    "# Predict the price of houses of with the trained data.\n",
    "\n",
    "y_pred_training = model_lr.predict(X_train)\n",
    "\n",
    "# Show the first five predictions.\n",
    "\n",
    "y_pred_training[:5]"
   ]
  },
  {
   "cell_type": "code",
   "execution_count": 33,
   "id": "946a9b76",
   "metadata": {},
   "outputs": [
    {
     "data": {
      "text/plain": [
       "array([418935.81412172, 620952.24958096, 567526.41540992, 487387.66415337,\n",
       "       812951.34113313])"
      ]
     },
     "execution_count": 33,
     "metadata": {},
     "output_type": "execute_result"
    }
   ],
   "source": [
    "# Predict the price of houses from the test data.\n",
    "\n",
    "y_pred_test = model_lr.predict(X_test)\n",
    "\n",
    "# Show the first five predictions.\n",
    "y_pred_test[:5]"
   ]
  },
  {
   "cell_type": "markdown",
   "id": "bf04938e",
   "metadata": {},
   "source": [
    "## Evaluate\n",
    "In this section, we will evaluate our model performance by using the mean absolute error metrics. We will first evaluate the model performance with the training data and then evaluate the performance with the test data.\n",
    "If the mean absolute error of our model on the test data beats the baseline, that is, it is lower than the baseline, the model passed. if otherwise, there is a problem. The model will be unable to generalize. That means will have to iterate: re-check our work or rebuild a model. "
   ]
  },
  {
   "cell_type": "code",
   "execution_count": 34,
   "id": "497d5310",
   "metadata": {},
   "outputs": [
    {
     "name": "stdout",
     "output_type": "stream",
     "text": [
      "The mean absolute error is 131088.40366844862\n"
     ]
    }
   ],
   "source": [
    "# Find the accuracy of the model prediction of our training data using the mean_absolute_error metric.\n",
    "\n",
    "mae_training = mean_absolute_error(y_train, y_pred_training)\n",
    "print(f\"The mean absolute error is {mae_training}\")"
   ]
  },
  {
   "cell_type": "markdown",
   "id": "cf5737db",
   "metadata": {},
   "source": [
    "### Note:\n",
    "Since the mean absolute error is 131,000, it beats our baseline which is 168,000. That's great. But,for our model to generalize, it must beat the baseline with our test data not the data it already has access to, in this case, our training data. Next, will evaluate our model performance with the test data."
   ]
  },
  {
   "cell_type": "code",
   "execution_count": 35,
   "id": "dbb1c996",
   "metadata": {},
   "outputs": [
    {
     "data": {
      "text/plain": [
       "132388.82856305555"
      ]
     },
     "execution_count": 35,
     "metadata": {},
     "output_type": "execute_result"
    }
   ],
   "source": [
    "# Find the accuracy of the model on test data.\n",
    "\n",
    "mae_test = mean_absolute_error(y_test, y_pred_test)\n",
    "mae_test"
   ]
  },
  {
   "cell_type": "markdown",
   "id": "f4934699",
   "metadata": {},
   "source": [
    "### Note:\n",
    "Great! Although the mean absolute error for our test data but it beats our baseline by 36,000. That's great. Our model passed. It will be able to generalize: Makes prediction on data it has no access to.\n",
    "\n",
    "Now that we are done with the model building and evaluation, we will move on to the next section where we will communicate the result of our model."
   ]
  },
  {
   "cell_type": "markdown",
   "id": "35a3e1ad",
   "metadata": {},
   "source": [
    "# Communicate\n",
    "In this section, we will communicate our findings. First to a technical audience through the model equation.\n",
    "Then, we will show the visualisation of the model to a non technical audience."
   ]
  },
  {
   "cell_type": "code",
   "execution_count": null,
   "id": "dd6abd2a",
   "metadata": {
    "scrolled": false
   },
   "outputs": [],
   "source": []
  },
  {
   "cell_type": "code",
   "execution_count": 36,
   "id": "fb1004c5",
   "metadata": {},
   "outputs": [
    {
     "name": "stdout",
     "output_type": "stream",
     "text": [
      "Model coefficient for sqft_living: 166.96\n"
     ]
    }
   ],
   "source": [
    "# Find the coefficient of the model.\n",
    "\n",
    "coefficient = round(model_lr.coef_[0], 2)\n",
    "print(\"Model coefficient for sqft_living:\", coefficient)"
   ]
  },
  {
   "cell_type": "markdown",
   "id": "2e76f804",
   "metadata": {},
   "source": [
    "### Note:\n",
    "From the above cell, we can see that the coefficient for our model is around 167. What does this mean? This means that the price of houses in king county, USA increase by $ 167 for every 1 sqft increse in the area of living space of apartments."
   ]
  },
  {
   "cell_type": "code",
   "execution_count": 37,
   "id": "5a02e975",
   "metadata": {},
   "outputs": [
    {
     "name": "stdout",
     "output_type": "stream",
     "text": [
      "Model intercept for sqft_living: 166.96\n"
     ]
    }
   ],
   "source": [
    "# Find the intercept of the model.\n",
    " \n",
    "intercept = round(model_lr.intercept_, 2)\n",
    "print(\"Model intercept for sqft_living:\", coefficient)"
   ]
  },
  {
   "cell_type": "markdown",
   "id": "c7cbb391",
   "metadata": {},
   "source": [
    "### Note:\n",
    "The intercept implies the model prediction when the area of the livin space of apartments at king county, USA is zero.\n",
    "\n",
    "Below is the equation that was used for building the model on our training data."
   ]
  },
  {
   "cell_type": "code",
   "execution_count": 38,
   "id": "66890f04",
   "metadata": {},
   "outputs": [
    {
     "data": {
      "text/plain": [
       "'Price = 146797.97 + 166.96 * sqft_lving'"
      ]
     },
     "execution_count": 38,
     "metadata": {},
     "output_type": "execute_result"
    }
   ],
   "source": [
    "# Find the linear equation of the model. \n",
    "\n",
    "equation = f\"Price = {intercept} + {coefficient} * sqft_lving\"\n",
    "equation"
   ]
  },
  {
   "cell_type": "markdown",
   "id": "88a89d7a",
   "metadata": {},
   "source": [
    "### Note: \n",
    "Next, will show how the actual predictions relates with the observed data through a line and scatter plot.\n",
    "The line is the model prediction while the scatter plot is the observed data."
   ]
  },
  {
   "cell_type": "markdown",
   "id": "020ae8fb",
   "metadata": {},
   "source": [
    "#### Note:\n",
    "The relationship between the model and the training data on our trained data"
   ]
  },
  {
   "cell_type": "code",
   "execution_count": 39,
   "id": "1d62e452",
   "metadata": {},
   "outputs": [
    {
     "data": {
      "text/plain": [
       "<matplotlib.legend.Legend at 0x2786c93a5e0>"
      ]
     },
     "execution_count": 39,
     "metadata": {},
     "output_type": "execute_result"
    },
    {
     "data": {
      "image/png": "[encoded data removed]",
      "text/plain": [
       "<Figure size 432x288 with 1 Axes>"
      ]
     },
     "metadata": {
      "needs_background": "light"
     },
     "output_type": "display_data"
    }
   ],
   "source": [
    "# Show the relationship between the model and the training data on our trained data.\n",
    "\n",
    "plt.scatter(X_train, y_train, alpha=0.3)\n",
    "plt.plot(X_train, y_pred_training, color=\"red\", label=\"Linear Model\");\n",
    "plt.xlabel(\"Features\")\n",
    "plt.ylabel(\"Target(Price)\")\n",
    "plt.title(\"Relationship Between the Model and the Observations of the Trained Data\\n\")\n",
    "plt.legend()"
   ]
  },
  {
   "cell_type": "markdown",
   "id": "0a4e6edc",
   "metadata": {},
   "source": [
    "#### Note:\n",
    "The relationship between the model and the test data"
   ]
  },
  {
   "cell_type": "code",
   "execution_count": 40,
   "id": "f7296606",
   "metadata": {},
   "outputs": [
    {
     "data": {
      "text/plain": [
       "<matplotlib.legend.Legend at 0x2786c3420d0>"
      ]
     },
     "execution_count": 40,
     "metadata": {},
     "output_type": "execute_result"
    },
    {
     "data": {
      "image/png": "[encoded data removed]",
      "text/plain": [
       "<Figure size 432x288 with 1 Axes>"
      ]
     },
     "metadata": {
      "needs_background": "light"
     },
     "output_type": "display_data"
    }
   ],
   "source": [
    "# Show the relationship between the model and the test data.\n",
    "\n",
    "plt.scatter(X_test, y_test, alpha=0.3)\n",
    "plt.plot(X_test, y_pred_test, color=\"red\", label=\"Linear Model\")\n",
    "plt.xlabel(\"Features\")\n",
    "plt.ylabel(\"Target(Price)\")\n",
    "plt.title(\"Relationship Between the Model and the Observations of the Test Data\\n\")\n",
    "plt.legend()"
   ]
  },
  {
   "cell_type": "markdown",
   "id": "77215441",
   "metadata": {},
   "source": [
    "For both plots, we can see that the model shows a relationship with the observed data. The area of the living space of houses appears to be positively correlated with price. The linear model shows that as the area of living spaces increase, the price of houses also increases.\n",
    "\n",
    "Now that we are done with communication, we will move to predict the price of houses with multiple variables in the next section."
   ]
  },
  {
   "cell_type": "markdown",
   "id": "f400b042",
   "metadata": {},
   "source": [
    "## Multiple Linear Regression\n",
    "In this section, we will build a model that predict the price of houses with multiple variables. \n",
    "Since correlation is very important in building a linear regression model, we will use only data that are correlated with price for building the model."
   ]
  },
  {
   "cell_type": "code",
   "execution_count": 41,
   "id": "83532d34",
   "metadata": {},
   "outputs": [
    {
     "data": {
      "text/html": [
       "<div>\n",
       "<style scoped>\n",
       "    .dataframe tbody tr th:only-of-type {\n",
       "        vertical-align: middle;\n",
       "    }\n",
       "\n",
       "    .dataframe tbody tr th {\n",
       "        vertical-align: top;\n",
       "    }\n",
       "\n",
       "    .dataframe thead th {\n",
       "        text-align: right;\n",
       "    }\n",
       "</style>\n",
       "<table border=\"1\" class=\"dataframe\">\n",
       "  <thead>\n",
       "    <tr style=\"text-align: right;\">\n",
       "      <th></th>\n",
       "      <th>price</th>\n",
       "      <th>bedrooms</th>\n",
       "      <th>bathrooms</th>\n",
       "      <th>sqft_living</th>\n",
       "      <th>sqft_lot</th>\n",
       "      <th>floors</th>\n",
       "      <th>waterfront</th>\n",
       "      <th>view</th>\n",
       "      <th>condition</th>\n",
       "      <th>grade</th>\n",
       "      <th>sqft_above</th>\n",
       "      <th>sqft_basement</th>\n",
       "      <th>yr_built</th>\n",
       "      <th>yr_renovated</th>\n",
       "      <th>lat</th>\n",
       "      <th>long</th>\n",
       "      <th>sqft_living15</th>\n",
       "      <th>sqft_lot15</th>\n",
       "    </tr>\n",
       "  </thead>\n",
       "  <tbody>\n",
       "    <tr>\n",
       "      <th>price</th>\n",
       "      <td>1.000000</td>\n",
       "      <td>0.297209</td>\n",
       "      <td>0.455954</td>\n",
       "      <td>0.622605</td>\n",
       "      <td>0.094024</td>\n",
       "      <td>0.273297</td>\n",
       "      <td>0.051560</td>\n",
       "      <td>0.238687</td>\n",
       "      <td>0.037711</td>\n",
       "      <td>0.631656</td>\n",
       "      <td>0.530795</td>\n",
       "      <td>0.235428</td>\n",
       "      <td>0.060540</td>\n",
       "      <td>0.083960</td>\n",
       "      <td>0.429389</td>\n",
       "      <td>0.070477</td>\n",
       "      <td>0.562450</td>\n",
       "      <td>0.082467</td>\n",
       "    </tr>\n",
       "    <tr>\n",
       "      <th>bedrooms</th>\n",
       "      <td>0.297209</td>\n",
       "      <td>1.000000</td>\n",
       "      <td>0.493761</td>\n",
       "      <td>0.585056</td>\n",
       "      <td>0.023888</td>\n",
       "      <td>0.153104</td>\n",
       "      <td>-0.030743</td>\n",
       "      <td>0.038036</td>\n",
       "      <td>0.026193</td>\n",
       "      <td>0.323737</td>\n",
       "      <td>0.464043</td>\n",
       "      <td>0.283014</td>\n",
       "      <td>0.159076</td>\n",
       "      <td>0.003511</td>\n",
       "      <td>-0.029316</td>\n",
       "      <td>0.137723</td>\n",
       "      <td>0.372472</td>\n",
       "      <td>0.020424</td>\n",
       "    </tr>\n",
       "    <tr>\n",
       "      <th>bathrooms</th>\n",
       "      <td>0.455954</td>\n",
       "      <td>0.493761</td>\n",
       "      <td>1.000000</td>\n",
       "      <td>0.716195</td>\n",
       "      <td>0.064492</td>\n",
       "      <td>0.499960</td>\n",
       "      <td>-0.003858</td>\n",
       "      <td>0.095887</td>\n",
       "      <td>-0.138384</td>\n",
       "      <td>0.614298</td>\n",
       "      <td>0.637532</td>\n",
       "      <td>0.222891</td>\n",
       "      <td>0.542819</td>\n",
       "      <td>0.026004</td>\n",
       "      <td>-0.009335</td>\n",
       "      <td>0.245700</td>\n",
       "      <td>0.528423</td>\n",
       "      <td>0.064047</td>\n",
       "    </tr>\n",
       "    <tr>\n",
       "      <th>sqft_living</th>\n",
       "      <td>0.622605</td>\n",
       "      <td>0.585056</td>\n",
       "      <td>0.716195</td>\n",
       "      <td>1.000000</td>\n",
       "      <td>0.158554</td>\n",
       "      <td>0.339189</td>\n",
       "      <td>0.001661</td>\n",
       "      <td>0.168531</td>\n",
       "      <td>-0.074137</td>\n",
       "      <td>0.705415</td>\n",
       "      <td>0.853585</td>\n",
       "      <td>0.376274</td>\n",
       "      <td>0.352473</td>\n",
       "      <td>0.020253</td>\n",
       "      <td>0.010105</td>\n",
       "      <td>0.284450</td>\n",
       "      <td>0.738387</td>\n",
       "      <td>0.172019</td>\n",
       "    </tr>\n",
       "    <tr>\n",
       "      <th>sqft_lot</th>\n",
       "      <td>0.094024</td>\n",
       "      <td>0.023888</td>\n",
       "      <td>0.064492</td>\n",
       "      <td>0.158554</td>\n",
       "      <td>1.000000</td>\n",
       "      <td>-0.018015</td>\n",
       "      <td>0.024735</td>\n",
       "      <td>0.078599</td>\n",
       "      <td>-0.003445</td>\n",
       "      <td>0.092486</td>\n",
       "      <td>0.162088</td>\n",
       "      <td>0.012087</td>\n",
       "      <td>0.042471</td>\n",
       "      <td>0.010671</td>\n",
       "      <td>-0.095247</td>\n",
       "      <td>0.221981</td>\n",
       "      <td>0.142204</td>\n",
       "      <td>0.710315</td>\n",
       "    </tr>\n",
       "    <tr>\n",
       "      <th>floors</th>\n",
       "      <td>0.273297</td>\n",
       "      <td>0.153104</td>\n",
       "      <td>0.499960</td>\n",
       "      <td>0.339189</td>\n",
       "      <td>-0.018015</td>\n",
       "      <td>1.000000</td>\n",
       "      <td>-0.001924</td>\n",
       "      <td>-0.014406</td>\n",
       "      <td>-0.280388</td>\n",
       "      <td>0.455911</td>\n",
       "      <td>0.527378</td>\n",
       "      <td>-0.295387</td>\n",
       "      <td>0.511343</td>\n",
       "      <td>-0.003378</td>\n",
       "      <td>0.036591</td>\n",
       "      <td>0.133681</td>\n",
       "      <td>0.267249</td>\n",
       "      <td>-0.022433</td>\n",
       "    </tr>\n",
       "    <tr>\n",
       "      <th>waterfront</th>\n",
       "      <td>0.051560</td>\n",
       "      <td>-0.030743</td>\n",
       "      <td>-0.003858</td>\n",
       "      <td>0.001661</td>\n",
       "      <td>0.024735</td>\n",
       "      <td>-0.001924</td>\n",
       "      <td>1.000000</td>\n",
       "      <td>0.294802</td>\n",
       "      <td>0.014115</td>\n",
       "      <td>-0.013581</td>\n",
       "      <td>-0.005688</td>\n",
       "      <td>0.013262</td>\n",
       "      <td>-0.039299</td>\n",
       "      <td>0.059857</td>\n",
       "      <td>-0.046136</td>\n",
       "      <td>-0.059379</td>\n",
       "      <td>0.004330</td>\n",
       "      <td>0.031100</td>\n",
       "    </tr>\n",
       "    <tr>\n",
       "      <th>view</th>\n",
       "      <td>0.238687</td>\n",
       "      <td>0.038036</td>\n",
       "      <td>0.095887</td>\n",
       "      <td>0.168531</td>\n",
       "      <td>0.078599</td>\n",
       "      <td>-0.014406</td>\n",
       "      <td>0.294802</td>\n",
       "      <td>1.000000</td>\n",
       "      <td>0.034859</td>\n",
       "      <td>0.132146</td>\n",
       "      <td>0.066574</td>\n",
       "      <td>0.200858</td>\n",
       "      <td>-0.067217</td>\n",
       "      <td>0.061900</td>\n",
       "      <td>-0.027837</td>\n",
       "      <td>-0.077415</td>\n",
       "      <td>0.187184</td>\n",
       "      <td>0.075867</td>\n",
       "    </tr>\n",
       "    <tr>\n",
       "      <th>condition</th>\n",
       "      <td>0.037711</td>\n",
       "      <td>0.026193</td>\n",
       "      <td>-0.138384</td>\n",
       "      <td>-0.074137</td>\n",
       "      <td>-0.003445</td>\n",
       "      <td>-0.280388</td>\n",
       "      <td>0.014115</td>\n",
       "      <td>0.034859</td>\n",
       "      <td>1.000000</td>\n",
       "      <td>-0.171034</td>\n",
       "      <td>-0.180199</td>\n",
       "      <td>0.180040</td>\n",
       "      <td>-0.356905</td>\n",
       "      <td>-0.060766</td>\n",
       "      <td>-0.018391</td>\n",
       "      <td>-0.101656</td>\n",
       "      <td>-0.119454</td>\n",
       "      <td>0.000903</td>\n",
       "    </tr>\n",
       "    <tr>\n",
       "      <th>grade</th>\n",
       "      <td>0.631656</td>\n",
       "      <td>0.323737</td>\n",
       "      <td>0.614298</td>\n",
       "      <td>0.705415</td>\n",
       "      <td>0.092486</td>\n",
       "      <td>0.455911</td>\n",
       "      <td>-0.013581</td>\n",
       "      <td>0.132146</td>\n",
       "      <td>-0.171034</td>\n",
       "      <td>1.000000</td>\n",
       "      <td>0.710076</td>\n",
       "      <td>0.073452</td>\n",
       "      <td>0.490111</td>\n",
       "      <td>-0.020098</td>\n",
       "      <td>0.085094</td>\n",
       "      <td>0.227845</td>\n",
       "      <td>0.670743</td>\n",
       "      <td>0.101321</td>\n",
       "    </tr>\n",
       "    <tr>\n",
       "      <th>sqft_above</th>\n",
       "      <td>0.530795</td>\n",
       "      <td>0.464043</td>\n",
       "      <td>0.637532</td>\n",
       "      <td>0.853585</td>\n",
       "      <td>0.162088</td>\n",
       "      <td>0.527378</td>\n",
       "      <td>-0.005688</td>\n",
       "      <td>0.066574</td>\n",
       "      <td>-0.180199</td>\n",
       "      <td>0.710076</td>\n",
       "      <td>1.000000</td>\n",
       "      <td>-0.161485</td>\n",
       "      <td>0.461114</td>\n",
       "      <td>-0.002751</td>\n",
       "      <td>-0.044497</td>\n",
       "      <td>0.388490</td>\n",
       "      <td>0.718115</td>\n",
       "      <td>0.174904</td>\n",
       "    </tr>\n",
       "    <tr>\n",
       "      <th>sqft_basement</th>\n",
       "      <td>0.235428</td>\n",
       "      <td>0.283014</td>\n",
       "      <td>0.222891</td>\n",
       "      <td>0.376274</td>\n",
       "      <td>0.012087</td>\n",
       "      <td>-0.295387</td>\n",
       "      <td>0.013262</td>\n",
       "      <td>0.200858</td>\n",
       "      <td>0.180040</td>\n",
       "      <td>0.073452</td>\n",
       "      <td>-0.161485</td>\n",
       "      <td>1.000000</td>\n",
       "      <td>-0.152373</td>\n",
       "      <td>0.043260</td>\n",
       "      <td>0.098279</td>\n",
       "      <td>-0.152073</td>\n",
       "      <td>0.121617</td>\n",
       "      <td>0.014802</td>\n",
       "    </tr>\n",
       "    <tr>\n",
       "      <th>yr_built</th>\n",
       "      <td>0.060540</td>\n",
       "      <td>0.159076</td>\n",
       "      <td>0.542819</td>\n",
       "      <td>0.352473</td>\n",
       "      <td>0.042471</td>\n",
       "      <td>0.511343</td>\n",
       "      <td>-0.039299</td>\n",
       "      <td>-0.067217</td>\n",
       "      <td>-0.356905</td>\n",
       "      <td>0.490111</td>\n",
       "      <td>0.461114</td>\n",
       "      <td>-0.152373</td>\n",
       "      <td>1.000000</td>\n",
       "      <td>-0.219098</td>\n",
       "      <td>-0.154756</td>\n",
       "      <td>0.408524</td>\n",
       "      <td>0.361509</td>\n",
       "      <td>0.062106</td>\n",
       "    </tr>\n",
       "    <tr>\n",
       "      <th>yr_renovated</th>\n",
       "      <td>0.083960</td>\n",
       "      <td>0.003511</td>\n",
       "      <td>0.026004</td>\n",
       "      <td>0.020253</td>\n",
       "      <td>0.010671</td>\n",
       "      <td>-0.003378</td>\n",
       "      <td>0.059857</td>\n",
       "      <td>0.061900</td>\n",
       "      <td>-0.060766</td>\n",
       "      <td>-0.020098</td>\n",
       "      <td>-0.002751</td>\n",
       "      <td>0.043260</td>\n",
       "      <td>-0.219098</td>\n",
       "      <td>1.000000</td>\n",
       "      <td>0.020985</td>\n",
       "      <td>-0.062763</td>\n",
       "      <td>-0.042072</td>\n",
       "      <td>0.009258</td>\n",
       "    </tr>\n",
       "    <tr>\n",
       "      <th>lat</th>\n",
       "      <td>0.429389</td>\n",
       "      <td>-0.029316</td>\n",
       "      <td>-0.009335</td>\n",
       "      <td>0.010105</td>\n",
       "      <td>-0.095247</td>\n",
       "      <td>0.036591</td>\n",
       "      <td>-0.046136</td>\n",
       "      <td>-0.027837</td>\n",
       "      <td>-0.018391</td>\n",
       "      <td>0.085094</td>\n",
       "      <td>-0.044497</td>\n",
       "      <td>0.098279</td>\n",
       "      <td>-0.154756</td>\n",
       "      <td>0.020985</td>\n",
       "      <td>1.000000</td>\n",
       "      <td>-0.133689</td>\n",
       "      <td>0.018167</td>\n",
       "      <td>-0.096411</td>\n",
       "    </tr>\n",
       "    <tr>\n",
       "      <th>long</th>\n",
       "      <td>0.070477</td>\n",
       "      <td>0.137723</td>\n",
       "      <td>0.245700</td>\n",
       "      <td>0.284450</td>\n",
       "      <td>0.221981</td>\n",
       "      <td>0.133681</td>\n",
       "      <td>-0.059379</td>\n",
       "      <td>-0.077415</td>\n",
       "      <td>-0.101656</td>\n",
       "      <td>0.227845</td>\n",
       "      <td>0.388490</td>\n",
       "      <td>-0.152073</td>\n",
       "      <td>0.408524</td>\n",
       "      <td>-0.062763</td>\n",
       "      <td>-0.133689</td>\n",
       "      <td>1.000000</td>\n",
       "      <td>0.372360</td>\n",
       "      <td>0.248947</td>\n",
       "    </tr>\n",
       "    <tr>\n",
       "      <th>sqft_living15</th>\n",
       "      <td>0.562450</td>\n",
       "      <td>0.372472</td>\n",
       "      <td>0.528423</td>\n",
       "      <td>0.738387</td>\n",
       "      <td>0.142204</td>\n",
       "      <td>0.267249</td>\n",
       "      <td>0.004330</td>\n",
       "      <td>0.187184</td>\n",
       "      <td>-0.119454</td>\n",
       "      <td>0.670743</td>\n",
       "      <td>0.718115</td>\n",
       "      <td>0.121617</td>\n",
       "      <td>0.361509</td>\n",
       "      <td>-0.042072</td>\n",
       "      <td>0.018167</td>\n",
       "      <td>0.372360</td>\n",
       "      <td>1.000000</td>\n",
       "      <td>0.178826</td>\n",
       "    </tr>\n",
       "    <tr>\n",
       "      <th>sqft_lot15</th>\n",
       "      <td>0.082467</td>\n",
       "      <td>0.020424</td>\n",
       "      <td>0.064047</td>\n",
       "      <td>0.172019</td>\n",
       "      <td>0.710315</td>\n",
       "      <td>-0.022433</td>\n",
       "      <td>0.031100</td>\n",
       "      <td>0.075867</td>\n",
       "      <td>0.000903</td>\n",
       "      <td>0.101321</td>\n",
       "      <td>0.174904</td>\n",
       "      <td>0.014802</td>\n",
       "      <td>0.062106</td>\n",
       "      <td>0.009258</td>\n",
       "      <td>-0.096411</td>\n",
       "      <td>0.248947</td>\n",
       "      <td>0.178826</td>\n",
       "      <td>1.000000</td>\n",
       "    </tr>\n",
       "  </tbody>\n",
       "</table>\n",
       "</div>"
      ],
      "text/plain": [
       "                  price  bedrooms  bathrooms  sqft_living  sqft_lot    floors  \\\n",
       "price          1.000000  0.297209   0.455954     0.622605  0.094024  0.273297   \n",
       "bedrooms       0.297209  1.000000   0.493761     0.585056  0.023888  0.153104   \n",
       "bathrooms      0.455954  0.493761   1.000000     0.716195  0.064492  0.499960   \n",
       "sqft_living    0.622605  0.585056   0.716195     1.000000  0.158554  0.339189   \n",
       "sqft_lot       0.094024  0.023888   0.064492     0.158554  1.000000 -0.018015   \n",
       "floors         0.273297  0.153104   0.499960     0.339189 -0.018015  1.000000   \n",
       "waterfront     0.051560 -0.030743  -0.003858     0.001661  0.024735 -0.001924   \n",
       "view           0.238687  0.038036   0.095887     0.168531  0.078599 -0.014406   \n",
       "condition      0.037711  0.026193  -0.138384    -0.074137 -0.003445 -0.280388   \n",
       "grade          0.631656  0.323737   0.614298     0.705415  0.092486  0.455911   \n",
       "sqft_above     0.530795  0.464043   0.637532     0.853585  0.162088  0.527378   \n",
       "sqft_basement  0.235428  0.283014   0.222891     0.376274  0.012087 -0.295387   \n",
       "yr_built       0.060540  0.159076   0.542819     0.352473  0.042471  0.511343   \n",
       "yr_renovated   0.083960  0.003511   0.026004     0.020253  0.010671 -0.003378   \n",
       "lat            0.429389 -0.029316  -0.009335     0.010105 -0.095247  0.036591   \n",
       "long           0.070477  0.137723   0.245700     0.284450  0.221981  0.133681   \n",
       "sqft_living15  0.562450  0.372472   0.528423     0.738387  0.142204  0.267249   \n",
       "sqft_lot15     0.082467  0.020424   0.064047     0.172019  0.710315 -0.022433   \n",
       "\n",
       "               waterfront      view  condition     grade  sqft_above  \\\n",
       "price            0.051560  0.238687   0.037711  0.631656    0.530795   \n",
       "bedrooms        -0.030743  0.038036   0.026193  0.323737    0.464043   \n",
       "bathrooms       -0.003858  0.095887  -0.138384  0.614298    0.637532   \n",
       "sqft_living      0.001661  0.168531  -0.074137  0.705415    0.853585   \n",
       "sqft_lot         0.024735  0.078599  -0.003445  0.092486    0.162088   \n",
       "floors          -0.001924 -0.014406  -0.280388  0.455911    0.527378   \n",
       "waterfront       1.000000  0.294802   0.014115 -0.013581   -0.005688   \n",
       "view             0.294802  1.000000   0.034859  0.132146    0.066574   \n",
       "condition        0.014115  0.034859   1.000000 -0.171034   -0.180199   \n",
       "grade           -0.013581  0.132146  -0.171034  1.000000    0.710076   \n",
       "sqft_above      -0.005688  0.066574  -0.180199  0.710076    1.000000   \n",
       "sqft_basement    0.013262  0.200858   0.180040  0.073452   -0.161485   \n",
       "yr_built        -0.039299 -0.067217  -0.356905  0.490111    0.461114   \n",
       "yr_renovated     0.059857  0.061900  -0.060766 -0.020098   -0.002751   \n",
       "lat             -0.046136 -0.027837  -0.018391  0.085094   -0.044497   \n",
       "long            -0.059379 -0.077415  -0.101656  0.227845    0.388490   \n",
       "sqft_living15    0.004330  0.187184  -0.119454  0.670743    0.718115   \n",
       "sqft_lot15       0.031100  0.075867   0.000903  0.101321    0.174904   \n",
       "\n",
       "               sqft_basement  yr_built  yr_renovated       lat      long  \\\n",
       "price               0.235428  0.060540      0.083960  0.429389  0.070477   \n",
       "bedrooms            0.283014  0.159076      0.003511 -0.029316  0.137723   \n",
       "bathrooms           0.222891  0.542819      0.026004 -0.009335  0.245700   \n",
       "sqft_living         0.376274  0.352473      0.020253  0.010105  0.284450   \n",
       "sqft_lot            0.012087  0.042471      0.010671 -0.095247  0.221981   \n",
       "floors             -0.295387  0.511343     -0.003378  0.036591  0.133681   \n",
       "waterfront          0.013262 -0.039299      0.059857 -0.046136 -0.059379   \n",
       "view                0.200858 -0.067217      0.061900 -0.027837 -0.077415   \n",
       "condition           0.180040 -0.356905     -0.060766 -0.018391 -0.101656   \n",
       "grade               0.073452  0.490111     -0.020098  0.085094  0.227845   \n",
       "sqft_above         -0.161485  0.461114     -0.002751 -0.044497  0.388490   \n",
       "sqft_basement       1.000000 -0.152373      0.043260  0.098279 -0.152073   \n",
       "yr_built           -0.152373  1.000000     -0.219098 -0.154756  0.408524   \n",
       "yr_renovated        0.043260 -0.219098      1.000000  0.020985 -0.062763   \n",
       "lat                 0.098279 -0.154756      0.020985  1.000000 -0.133689   \n",
       "long               -0.152073  0.408524     -0.062763 -0.133689  1.000000   \n",
       "sqft_living15       0.121617  0.361509     -0.042072  0.018167  0.372360   \n",
       "sqft_lot15          0.014802  0.062106      0.009258 -0.096411  0.248947   \n",
       "\n",
       "               sqft_living15  sqft_lot15  \n",
       "price               0.562450    0.082467  \n",
       "bedrooms            0.372472    0.020424  \n",
       "bathrooms           0.528423    0.064047  \n",
       "sqft_living         0.738387    0.172019  \n",
       "sqft_lot            0.142204    0.710315  \n",
       "floors              0.267249   -0.022433  \n",
       "waterfront          0.004330    0.031100  \n",
       "view                0.187184    0.075867  \n",
       "condition          -0.119454    0.000903  \n",
       "grade               0.670743    0.101321  \n",
       "sqft_above          0.718115    0.174904  \n",
       "sqft_basement       0.121617    0.014802  \n",
       "yr_built            0.361509    0.062106  \n",
       "yr_renovated       -0.042072    0.009258  \n",
       "lat                 0.018167   -0.096411  \n",
       "long                0.372360    0.248947  \n",
       "sqft_living15       1.000000    0.178826  \n",
       "sqft_lot15          0.178826    1.000000  "
      ]
     },
     "execution_count": 41,
     "metadata": {},
     "output_type": "execute_result"
    }
   ],
   "source": [
    "# Correlation of all the data with one another.\n",
    "df.corr()"
   ]
  },
  {
   "cell_type": "markdown",
   "id": "7ad9023a",
   "metadata": {},
   "source": [
    "### Note:\n",
    "Since we are only interested in data that are correlated with price, we will show the correlation result of price with those data only."
   ]
  },
  {
   "cell_type": "code",
   "execution_count": 42,
   "id": "4fe3e175",
   "metadata": {
    "scrolled": false
   },
   "outputs": [
    {
     "data": {
      "text/plain": [
       "price            1.000000\n",
       "grade            0.631656\n",
       "sqft_living      0.622605\n",
       "sqft_living15    0.562450\n",
       "sqft_above       0.530795\n",
       "bathrooms        0.455954\n",
       "Name: price, dtype: float64"
      ]
     },
     "execution_count": 42,
     "metadata": {},
     "output_type": "execute_result"
    }
   ],
   "source": [
    "# Variables that have a positive relationship with price.\n",
    "\n",
    "df.corr()[\"price\"].nlargest(6)\n",
    "# Note that bathrooms will be excluded because its correlation is weak with price."
   ]
  },
  {
   "cell_type": "markdown",
   "id": "3771436f",
   "metadata": {},
   "source": [
    "### Note:\n",
    "We can see that five of the above result has a positive correlation with price, Those are the variables that will be used to build our model. We will exclude \"bathrooms\" from it because it is not correlated with price.\n",
    "\n"
   ]
  },
  {
   "cell_type": "code",
   "execution_count": 43,
   "id": "1c71085f",
   "metadata": {},
   "outputs": [
    {
     "data": {
      "text/plain": [
       "Index(['price', 'grade', 'sqft_living', 'sqft_living15', 'sqft_above'], dtype='object')"
      ]
     },
     "execution_count": 43,
     "metadata": {},
     "output_type": "execute_result"
    }
   ],
   "source": [
    "# Columns of variables that have a relationship with price.\n",
    "\n",
    "df_sub = df.corr()[\"price\"].nlargest(5).index\n",
    "df_sub"
   ]
  },
  {
   "cell_type": "code",
   "execution_count": 44,
   "id": "9b958034",
   "metadata": {
    "scrolled": true
   },
   "outputs": [
    {
     "data": {
      "text/html": [
       "<div>\n",
       "<style scoped>\n",
       "    .dataframe tbody tr th:only-of-type {\n",
       "        vertical-align: middle;\n",
       "    }\n",
       "\n",
       "    .dataframe tbody tr th {\n",
       "        vertical-align: top;\n",
       "    }\n",
       "\n",
       "    .dataframe thead th {\n",
       "        text-align: right;\n",
       "    }\n",
       "</style>\n",
       "<table border=\"1\" class=\"dataframe\">\n",
       "  <thead>\n",
       "    <tr style=\"text-align: right;\">\n",
       "      <th></th>\n",
       "      <th>price</th>\n",
       "      <th>grade</th>\n",
       "      <th>sqft_living</th>\n",
       "      <th>sqft_living15</th>\n",
       "      <th>sqft_above</th>\n",
       "    </tr>\n",
       "  </thead>\n",
       "  <tbody>\n",
       "    <tr>\n",
       "      <th>0</th>\n",
       "      <td>221900.0</td>\n",
       "      <td>7</td>\n",
       "      <td>1180</td>\n",
       "      <td>1340</td>\n",
       "      <td>1180</td>\n",
       "    </tr>\n",
       "    <tr>\n",
       "      <th>1</th>\n",
       "      <td>538000.0</td>\n",
       "      <td>7</td>\n",
       "      <td>2570</td>\n",
       "      <td>1690</td>\n",
       "      <td>2170</td>\n",
       "    </tr>\n",
       "    <tr>\n",
       "      <th>2</th>\n",
       "      <td>180000.0</td>\n",
       "      <td>6</td>\n",
       "      <td>770</td>\n",
       "      <td>2720</td>\n",
       "      <td>770</td>\n",
       "    </tr>\n",
       "    <tr>\n",
       "      <th>3</th>\n",
       "      <td>604000.0</td>\n",
       "      <td>7</td>\n",
       "      <td>1960</td>\n",
       "      <td>1360</td>\n",
       "      <td>1050</td>\n",
       "    </tr>\n",
       "    <tr>\n",
       "      <th>4</th>\n",
       "      <td>510000.0</td>\n",
       "      <td>8</td>\n",
       "      <td>1680</td>\n",
       "      <td>1800</td>\n",
       "      <td>1680</td>\n",
       "    </tr>\n",
       "  </tbody>\n",
       "</table>\n",
       "</div>"
      ],
      "text/plain": [
       "      price  grade  sqft_living  sqft_living15  sqft_above\n",
       "0  221900.0      7         1180           1340        1180\n",
       "1  538000.0      7         2570           1690        2170\n",
       "2  180000.0      6          770           2720         770\n",
       "3  604000.0      7         1960           1360        1050\n",
       "4  510000.0      8         1680           1800        1680"
      ]
     },
     "execution_count": 44,
     "metadata": {},
     "output_type": "execute_result"
    }
   ],
   "source": [
    "# Variables that have a a relationship with price that will be used for modelling.\n",
    "\n",
    "df_corr = df[df_sub]\n",
    "df_corr.head()"
   ]
  },
  {
   "cell_type": "markdown",
   "id": "464ab994",
   "metadata": {},
   "source": [
    "## Split\n",
    "Like we did previously, we will split our data into feature matrix and target vector.\n",
    "This time, our feature matrix will have four variables while our target vector remains the same."
   ]
  },
  {
   "cell_type": "code",
   "execution_count": 45,
   "id": "4204f4d6",
   "metadata": {
    "scrolled": true
   },
   "outputs": [
    {
     "name": "stdout",
     "output_type": "stream",
     "text": [
      "['grade', 'sqft_living', 'sqft_living15', 'sqft_above']\n"
     ]
    }
   ],
   "source": [
    "# Feature matrix columns.\n",
    "\n",
    "features = df_corr.columns[1:].to_list()\n",
    "print(features)\n",
    "\n",
    "# Target column.\n",
    "target = \"price\"\n"
   ]
  },
  {
   "cell_type": "code",
   "execution_count": 46,
   "id": "06a92981",
   "metadata": {},
   "outputs": [
    {
     "data": {
      "text/plain": [
       "((20297, 4), (20297,))"
      ]
     },
     "execution_count": 46,
     "metadata": {},
     "output_type": "execute_result"
    }
   ],
   "source": [
    "#  Feature matrix.\n",
    "X = df_corr[features]\n",
    "\n",
    "# Target variable.\n",
    "y = df_corr[target]\n",
    "X.shape, y.shape"
   ]
  },
  {
   "cell_type": "markdown",
   "id": "90aa5074",
   "metadata": {},
   "source": [
    "### Note:\n",
    "Like we did previously, we will be split our data into feature matrix and target vector.\n",
    "\n",
    "The feature matrix will be our predictor variable while the target vector will serve as the variable to be predicted. Only difference is that, in this case, we now have four variables in our feature matrix."
   ]
  },
  {
   "cell_type": "code",
   "execution_count": 47,
   "id": "ffdc14e2",
   "metadata": {},
   "outputs": [],
   "source": [
    "# Split data into train and test set.\n",
    "\n",
    "X_train, X_test, y_train, y_test = train_test_split(X, y, test_size=0.2, random_state=42)\n"
   ]
  },
  {
   "cell_type": "code",
   "execution_count": 48,
   "id": "1a60ea1c",
   "metadata": {},
   "outputs": [
    {
     "data": {
      "text/plain": [
       "(True, True)"
      ]
     },
     "execution_count": 48,
     "metadata": {},
     "output_type": "execute_result"
    }
   ],
   "source": [
    "# If result returns true for both values, \n",
    "#it means our data are well split into the right variable names. Otherwise, \n",
    "# we need to return to the preceding cell to check if we assign the appropriate variable to the result.\n",
    "\n",
    "(len(X_train) == len(y_train)), (len(X_test) == len(y_test))"
   ]
  },
  {
   "cell_type": "code",
   "execution_count": null,
   "id": "c1d447f6",
   "metadata": {},
   "outputs": [],
   "source": []
  },
  {
   "cell_type": "code",
   "execution_count": null,
   "id": "783046a3",
   "metadata": {},
   "outputs": [],
   "source": []
  },
  {
   "cell_type": "markdown",
   "id": "6476d1d9",
   "metadata": {},
   "source": [
    "# Build Model\n",
    "\n",
    "Since we are using multiple variables in building our model. The model might overfit on linear regression. \n",
    "Ridge regression is appropriate for making predictions with data with many feature variables. It adds a penalty to the linear regression model that penalises the coefficient with a value referred to as alpha.\n",
    "So, we will first use ridge regression to determine the best alpha value for our model, if the alpha value is greater is than zero, we will surely build the model with a ridge regression with the best alpha value return.\n",
    "\n",
    "However, if the best alpha value is zero, it indicates that a linear regression will do the best job for building the model.\n",
    "In that case, we may use a linear or ridge regression model to build the model. Please note that when the best alpha value is zero, the ridge regression model automatically build with the linear regression model. "
   ]
  },
  {
   "cell_type": "code",
   "execution_count": null,
   "id": "73265a89",
   "metadata": {},
   "outputs": [],
   "source": []
  },
  {
   "cell_type": "code",
   "execution_count": 49,
   "id": "84a7a43e",
   "metadata": {
    "scrolled": true
   },
   "outputs": [
    {
     "data": {
      "text/plain": [
       "{'alpha': range(0, 20)}"
      ]
     },
     "execution_count": 49,
     "metadata": {},
     "output_type": "execute_result"
    }
   ],
   "source": [
    "# Range of alpha values that will be used as penalty.\n",
    "\n",
    "parameters = {\"alpha\": range(20)}\n",
    "parameters"
   ]
  },
  {
   "cell_type": "code",
   "execution_count": 50,
   "id": "053e5222",
   "metadata": {},
   "outputs": [],
   "source": [
    "# Instantiate the Ridge Class\n",
    "ridge = Ridge()"
   ]
  },
  {
   "cell_type": "code",
   "execution_count": 51,
   "id": "e284b6fa",
   "metadata": {
    "scrolled": true
   },
   "outputs": [
    {
     "data": {
      "text/plain": [
       "GridSearchCV(cv=5, estimator=Ridge(), n_jobs=-1,\n",
       "             param_grid={'alpha': range(0, 20)},\n",
       "             scoring='neg_mean_squared_error', verbose=4)"
      ]
     },
     "execution_count": 51,
     "metadata": {},
     "output_type": "execute_result"
    }
   ],
   "source": [
    "#  Instantiate and pass the neccessary parameters to determine \n",
    "# the best alpha value that will be used to build our model.\n",
    "\n",
    "\n",
    "ridge_reg = GridSearchCV(\n",
    "    estimator=ridge,\n",
    "    param_grid=parameters,\n",
    "    cv=5,\n",
    "    verbose= 4,\n",
    "    scoring=\"neg_mean_squared_error\",\n",
    "    n_jobs=-1\n",
    ")\n",
    "ridge_reg"
   ]
  },
  {
   "cell_type": "code",
   "execution_count": 52,
   "id": "5e73b204",
   "metadata": {},
   "outputs": [
    {
     "name": "stdout",
     "output_type": "stream",
     "text": [
      "Fitting 5 folds for each of 20 candidates, totalling 100 fits\n"
     ]
    },
    {
     "data": {
      "text/plain": [
       "GridSearchCV(cv=5, estimator=Ridge(), n_jobs=-1,\n",
       "             param_grid={'alpha': range(0, 20)},\n",
       "             scoring='neg_mean_squared_error', verbose=4)"
      ]
     },
     "execution_count": 52,
     "metadata": {},
     "output_type": "execute_result"
    }
   ],
   "source": [
    "# Fit to training data.\n",
    "\n",
    "ridge_reg.fit(X, y)"
   ]
  },
  {
   "cell_type": "code",
   "execution_count": 53,
   "id": "ef280dec",
   "metadata": {},
   "outputs": [
    {
     "data": {
      "text/plain": [
       "Ridge(alpha=0)"
      ]
     },
     "execution_count": 53,
     "metadata": {},
     "output_type": "execute_result"
    }
   ],
   "source": [
    "# Find the model with the best alpha value.\n",
    "\n",
    "ridge_reg.best_estimator_"
   ]
  },
  {
   "cell_type": "markdown",
   "id": "db7b495b",
   "metadata": {},
   "source": [
    "### Note:\n",
    "Since the alpha value with the best model performance is zero, this implies that the penalty is zero, the model is the equivalent of a linear regression model.\n",
    "Now, we can choose to  build our model with a linear regression model or a ridge regression model. We will have the same result in either cases.\n",
    "\n",
    "I don't see any reason building the model with a ridge regression since a linear regression model can do the same. \n",
    "Let's keep it simple!\n",
    "Now, I will switch to using the linear regression model. "
   ]
  },
  {
   "cell_type": "code",
   "execution_count": null,
   "id": "1b0e9f25",
   "metadata": {},
   "outputs": [],
   "source": []
  },
  {
   "cell_type": "markdown",
   "id": "cce11abe",
   "metadata": {
    "scrolled": true
   },
   "source": [
    "## Baseline\n",
    "\n",
    "Like we did with the simple linear regression, we will determine our baseline. The baseline will be used to evaluate our model performance. We expect our model mean absolute error to be lower than our baseline mean absolute error for the model to generalise."
   ]
  },
  {
   "cell_type": "code",
   "execution_count": 54,
   "id": "114d52ad",
   "metadata": {},
   "outputs": [
    {
     "data": {
      "text/plain": [
       "[476999.8033503726,\n",
       " 476999.8033503726,\n",
       " 476999.8033503726,\n",
       " 476999.8033503726,\n",
       " 476999.8033503726]"
      ]
     },
     "execution_count": 54,
     "metadata": {},
     "output_type": "execute_result"
    }
   ],
   "source": [
    "# Baseline\n",
    "\n",
    "mean = y_train.mean()\n",
    "y_pred_baseline = len(y_train) * [mean]\n",
    "y_pred_baseline[:5]"
   ]
  },
  {
   "cell_type": "code",
   "execution_count": 55,
   "id": "1aeb0ea8",
   "metadata": {
    "scrolled": false
   },
   "outputs": [
    {
     "data": {
      "text/plain": [
       "168633.84533329596"
      ]
     },
     "execution_count": 55,
     "metadata": {},
     "output_type": "execute_result"
    }
   ],
   "source": [
    "# Baseline Mean absolute error\n",
    "baseline_mae  = mean_absolute_error(y_train, y_pred_baseline)\n",
    "baseline_mae"
   ]
  },
  {
   "cell_type": "markdown",
   "id": "99ebfd43",
   "metadata": {},
   "source": [
    "## Build\n",
    "We will build a multiple linear regression model that will use multiple variables to predict the price of houses in king county, USA. A multiple linear regression model is a model that takes a more than one independent variable to predict a dependent variable."
   ]
  },
  {
   "cell_type": "code",
   "execution_count": 56,
   "id": "bc82fdc1",
   "metadata": {},
   "outputs": [],
   "source": [
    "# Instantiate the linear regression class.\n",
    "\n",
    "lr = LinearRegression()"
   ]
  },
  {
   "cell_type": "code",
   "execution_count": 57,
   "id": "e49025f7",
   "metadata": {
    "scrolled": false
   },
   "outputs": [
    {
     "data": {
      "text/plain": [
       "LinearRegression()"
      ]
     },
     "execution_count": 57,
     "metadata": {},
     "output_type": "execute_result"
    }
   ],
   "source": [
    "# Build the model with the training data.\n",
    "\n",
    "lr.fit(X_train, y_train)"
   ]
  },
  {
   "cell_type": "markdown",
   "id": "676f4ea8",
   "metadata": {},
   "source": [
    "## Predict\n",
    "Here, we will predict the price of houses first with the training data and then for the test data."
   ]
  },
  {
   "cell_type": "code",
   "execution_count": 58,
   "id": "a71a894d",
   "metadata": {},
   "outputs": [
    {
     "data": {
      "text/plain": [
       "array([279958.48551968, 667189.83607045, 415290.1924816 , 391048.1656854 ,\n",
       "       675508.86862963])"
      ]
     },
     "execution_count": 58,
     "metadata": {},
     "output_type": "execute_result"
    }
   ],
   "source": [
    "# Make prediction with the training data.\n",
    "y_pred_training = lr.predict(X_train)\n",
    "y_pred_training[:5]"
   ]
  },
  {
   "cell_type": "code",
   "execution_count": 59,
   "id": "5997c052",
   "metadata": {
    "scrolled": true
   },
   "outputs": [
    {
     "data": {
      "text/plain": [
       "array([415077.4929337 , 564276.07873717, 477966.26858442, 504708.14636594,\n",
       "       930116.72941346])"
      ]
     },
     "execution_count": 59,
     "metadata": {},
     "output_type": "execute_result"
    }
   ],
   "source": [
    "# Make prediction with the training data.\n",
    "\n",
    "y_pred_test = lr.predict(X_test)\n",
    "y_pred_test[:5]"
   ]
  },
  {
   "cell_type": "markdown",
   "id": "3bccaab2",
   "metadata": {},
   "source": [
    "# Evaluate\n",
    "Like we did previously, here, we will first evaluate the model performance with the training data and then evaluate the performance with the test data. We expect the mean absolute error of our model on the test data to be lower than the baseline for our model to generalise."
   ]
  },
  {
   "cell_type": "code",
   "execution_count": 60,
   "id": "7dfe6224",
   "metadata": {},
   "outputs": [
    {
     "data": {
      "text/plain": [
       "119129.57336104583"
      ]
     },
     "execution_count": 60,
     "metadata": {},
     "output_type": "execute_result"
    }
   ],
   "source": [
    "# Mean absolute error of the test data\n",
    "mean_absolute_error(y_train, y_pred_training)"
   ]
  },
  {
   "cell_type": "code",
   "execution_count": 61,
   "id": "dde56aa0",
   "metadata": {
    "scrolled": false
   },
   "outputs": [
    {
     "data": {
      "text/plain": [
       "119201.18528596501"
      ]
     },
     "execution_count": 61,
     "metadata": {},
     "output_type": "execute_result"
    }
   ],
   "source": [
    "# Mean absolute error of the test data\n",
    "mean_absolute_error(y_test, y_pred_test)"
   ]
  },
  {
   "cell_type": "markdown",
   "id": "e189e526",
   "metadata": {},
   "source": [
    "# Communicate Result\n",
    "We will communicate our finding by creating th formula that built the models."
   ]
  },
  {
   "cell_type": "code",
   "execution_count": 62,
   "id": "b447ab23",
   "metadata": {
    "scrolled": false
   },
   "outputs": [
    {
     "data": {
      "text/plain": [
       "array([ 7.675915e+04,  1.139800e+02,  4.620000e+01, -5.790000e+01])"
      ]
     },
     "execution_count": 62,
     "metadata": {},
     "output_type": "execute_result"
    }
   ],
   "source": [
    "# Coefficient\n",
    "coefficient = lr.coef_.round(2)\n",
    "coefficient"
   ]
  },
  {
   "cell_type": "code",
   "execution_count": 63,
   "id": "8781d905",
   "metadata": {
    "scrolled": true
   },
   "outputs": [
    {
     "data": {
      "text/plain": [
       "-316625.92"
      ]
     },
     "execution_count": 63,
     "metadata": {},
     "output_type": "execute_result"
    }
   ],
   "source": [
    "# Intercept\n",
    "intercept = round(lr.intercept_, 2)\n",
    "intercept"
   ]
  },
  {
   "cell_type": "code",
   "execution_count": 64,
   "id": "534ccf07",
   "metadata": {
    "scrolled": true
   },
   "outputs": [
    {
     "data": {
      "text/plain": [
       "['grade', 'sqft_living', 'sqft_living15', 'sqft_above']"
      ]
     },
     "execution_count": 64,
     "metadata": {},
     "output_type": "execute_result"
    }
   ],
   "source": [
    "# column labels of the predicting variables.\n",
    "\n",
    "feature_names = list(X_test.columns)\n",
    "feature_names"
   ]
  },
  {
   "cell_type": "code",
   "execution_count": 65,
   "id": "f3a33f7f",
   "metadata": {
    "scrolled": false
   },
   "outputs": [
    {
     "data": {
      "text/plain": [
       "grade            76759.15\n",
       "sqft_living        113.98\n",
       "sqft_living15       46.20\n",
       "sqft_above         -57.90\n",
       "dtype: float64"
      ]
     },
     "execution_count": 65,
     "metadata": {},
     "output_type": "execute_result"
    }
   ],
   "source": [
    "# Create a series with the coefficients of the model and their corresponding column label.\n",
    "\n",
    "feat_imp  = pd.Series(coefficient, index =feature_names)\n",
    "feat_imp"
   ]
  },
  {
   "cell_type": "markdown",
   "id": "4b1c8f6e",
   "metadata": {},
   "source": [
    "### Note:\n",
    "Below is the equation that was used to build the model."
   ]
  },
  {
   "cell_type": "code",
   "execution_count": 66,
   "id": "62f72a03",
   "metadata": {
    "scrolled": false
   },
   "outputs": [
    {
     "name": "stdout",
     "output_type": "stream",
     "text": [
      "-316625.92+\n",
      "76759.15 *grade\n",
      "113.98 *sqft_living\n",
      "46.2 *sqft_living15\n",
      "-57.9 *sqft_above\n"
     ]
    }
   ],
   "source": [
    "# Formula that was used to build our model.\n",
    "print(f\"{intercept}+\")\n",
    "for feat, coef in feat_imp.items():\n",
    "    print(f\"{coef} *{feat}\")\n",
    "    "
   ]
  },
  {
   "cell_type": "code",
   "execution_count": null,
   "id": "b5414392",
   "metadata": {},
   "outputs": [],
   "source": []
  },
  {
   "cell_type": "markdown",
   "id": "c7797bc8",
   "metadata": {},
   "source": [
    "## Save Model\n",
    "Lastly, we will save the two models. The models will be be used to build an interactive web application for user to predict the price of houses in King County, Washington State, USA. "
   ]
  },
  {
   "cell_type": "code",
   "execution_count": null,
   "id": "cf2bb011",
   "metadata": {},
   "outputs": [],
   "source": []
  },
  {
   "cell_type": "code",
   "execution_count": 67,
   "id": "dc4e9279",
   "metadata": {},
   "outputs": [],
   "source": [
    "# Save the simple linear regression model.\n",
    "\n",
    "with open(\"simple_model\", \"wb\") as file1:\n",
    "    pickle.dump(model_lr, file1)"
   ]
  },
  {
   "cell_type": "code",
   "execution_count": 73,
   "id": "b54ed76c",
   "metadata": {},
   "outputs": [],
   "source": [
    "# Save the multiple linear regression model.\n",
    "\n",
    "with open(\"multiple_model\", \"wb\") as file2:\n",
    "    pickle.dump(lr, file2)"
   ]
  },
  {
   "cell_type": "code",
   "execution_count": 76,
   "id": "672762a1",
   "metadata": {},
   "outputs": [],
   "source": [
    "# with open(\"multiple_model\", \"rb\") as f:    \n",
    "#     y=pickle.load(f)"
   ]
  },
  {
   "cell_type": "code",
   "execution_count": null,
   "id": "019636b9",
   "metadata": {},
   "outputs": [],
   "source": []
  }
 ],
 "metadata": {
  "kernelspec": {
   "display_name": "Python 3 (ipykernel)",
   "language": "python",
   "name": "python3"
  },
  "language_info": {
   "codemirror_mode": {
    "name": "ipython",
    "version": 3
   },
   "file_extension": ".py",
   "mimetype": "text/x-python",
   "name": "python",
   "nbconvert_exporter": "python",
   "pygments_lexer": "ipython3",
   "version": "3.9.7"
  }
 },
 "nbformat": 4,
 "nbformat_minor": 5
}
